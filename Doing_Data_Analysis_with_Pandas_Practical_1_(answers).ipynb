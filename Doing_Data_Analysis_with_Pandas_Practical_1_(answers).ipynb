{
 "cells": [
  {
   "cell_type": "markdown",
   "metadata": {},
   "source": [
    "# Data Analysis with Python Pandas\n",
    "In this notebook you will be going through the basics of interrogating and analysing data in Python with the Pandas package.  __[Pandas](https://pandas.pydata.org/pandas-docs/stable/10min.html)__, using data structures known as Dataframes which arrange data in a form similar to an excel spreadsheet, is a very powerful tool for quickly and effectively working with tabular data.  In this practical we will be investigating the [Climate Change: Earth Surface Temperature](https://www.kaggle.com/berkeleyearth/climate-change-earth-surface-temperature-data/data) dataset available on the Kaggle website.  We will learn to: load a .csv file into a dataframe; explore the data held in the dataframe; convert time information from string form into more useful time objects; subset a dataframe; reduce a dataframe through the groupby method; fit a simple model using the numpy package; and finally do some visualisation.  This might seem like a lot of things to do, but Pandas makes most of it quite straightforward!    "
   ]
  },
  {
   "cell_type": "markdown",
   "metadata": {},
   "source": [
    "## Loading in Python Packages\n",
    "Prior to doing any work on the data, we need to make sure that the packages that we will be using are accesible in this notebook.  This is done with the __<font color=green>import</font>__ statement, which in effect makes the package available for use within Python. We need to import pandas, numpy and pyplot from matplotlib for this practical."
   ]
  },
  {
   "cell_type": "code",
   "execution_count": 144,
   "metadata": {
    "collapsed": true
   },
   "outputs": [],
   "source": [
    "# let's import the packages we are going to be using\n",
    "import pandas as pd  # here we use the'as' keyword to give an alias to pandas to make it quicker to type.\n",
    "import numpy as np\n",
    "import matplotlib.pyplot as plt"
   ]
  },
  {
   "cell_type": "markdown",
   "metadata": {},
   "source": [
    "## Reading in the dataset\n",
    "The data we are going to be using is in .csv format.  These files are in a comma separated value form (hence .csv) and are very easily read in by Pandas using the __[read_csv](https://pandas.pydata.org/pandas-docs/stable/generated/pandas.read_csv.html)__ method.  Pandas has a lot of different methods!  Finding the right one for the task might seem problematic, however the [documentation](http://pandas.pydata.org/pandas-docs/stable/) is your friend here (along with Google) and is very well put together.  Let's move on and get the data read in.    "
   ]
  },
  {
   "cell_type": "code",
   "execution_count": 234,
   "metadata": {
    "collapsed": true
   },
   "outputs": [],
   "source": [
    "fname = 'data/surface_temps/GlobalLandTemperaturesByCountry.csv'\n",
    "df = pd.read_csv(fname)"
   ]
  },
  {
   "cell_type": "code",
   "execution_count": 235,
   "metadata": {
    "collapsed": true
   },
   "outputs": [],
   "source": [
    "# First a little preprocessing to get rid of non-countries, and also to retain only European parts of colonial countries.\n",
    "\n",
    "df = df[~df['Country'].isin(\n",
    "    ['Denmark', 'France', 'Europe', 'Netherlands',\n",
    "     'United Kingdom', 'Africa', 'South America'])]\n",
    "\n",
    "df = df.replace(\n",
    "   ['Denmark (Europe)', 'France (Europe)', 'Netherlands (Europe)', 'United Kingdom (Europe)'],\n",
    "   ['Denmark', 'France', 'Netherlands', 'United Kingdom'])"
   ]
  },
  {
   "cell_type": "markdown",
   "metadata": {},
   "source": [
    "## First look at the data\n",
    "So we have now loaded the data into the __df__ variable.  However, it would be good to have an idea of: what sort of variable it is?  What does it contain?  How many observations are there? And so on...  Let's answer some of these questions now."
   ]
  },
  {
   "cell_type": "code",
   "execution_count": 236,
   "metadata": {},
   "outputs": [
    {
     "data": {
      "text/plain": [
       "pandas.core.frame.DataFrame"
      ]
     },
     "execution_count": 236,
     "metadata": {},
     "output_type": "execute_result"
    }
   ],
   "source": [
    "type(df)  # what type of variable is df?"
   ]
  },
  {
   "cell_type": "markdown",
   "metadata": {},
   "source": [
    "Ok, so it is a Pandas __[DataFrame](https://pandas.pydata.org/pandas-docs/stable/generated/pandas.DataFrame.html)__.  This is the key data structure in Pandas.  How about getting a look at some of the data?"
   ]
  },
  {
   "cell_type": "code",
   "execution_count": 237,
   "metadata": {},
   "outputs": [
    {
     "data": {
      "text/html": [
       "<div>\n",
       "<style>\n",
       "    .dataframe thead tr:only-child th {\n",
       "        text-align: right;\n",
       "    }\n",
       "\n",
       "    .dataframe thead th {\n",
       "        text-align: left;\n",
       "    }\n",
       "\n",
       "    .dataframe tbody tr th {\n",
       "        vertical-align: top;\n",
       "    }\n",
       "</style>\n",
       "<table border=\"1\" class=\"dataframe\">\n",
       "  <thead>\n",
       "    <tr style=\"text-align: right;\">\n",
       "      <th></th>\n",
       "      <th>dt</th>\n",
       "      <th>AverageTemperature</th>\n",
       "      <th>AverageTemperatureUncertainty</th>\n",
       "      <th>Country</th>\n",
       "    </tr>\n",
       "  </thead>\n",
       "  <tbody>\n",
       "    <tr>\n",
       "      <th>0</th>\n",
       "      <td>1743-11-01</td>\n",
       "      <td>4.384</td>\n",
       "      <td>2.294</td>\n",
       "      <td>Åland</td>\n",
       "    </tr>\n",
       "    <tr>\n",
       "      <th>1</th>\n",
       "      <td>1743-12-01</td>\n",
       "      <td>NaN</td>\n",
       "      <td>NaN</td>\n",
       "      <td>Åland</td>\n",
       "    </tr>\n",
       "    <tr>\n",
       "      <th>2</th>\n",
       "      <td>1744-01-01</td>\n",
       "      <td>NaN</td>\n",
       "      <td>NaN</td>\n",
       "      <td>Åland</td>\n",
       "    </tr>\n",
       "    <tr>\n",
       "      <th>3</th>\n",
       "      <td>1744-02-01</td>\n",
       "      <td>NaN</td>\n",
       "      <td>NaN</td>\n",
       "      <td>Åland</td>\n",
       "    </tr>\n",
       "    <tr>\n",
       "      <th>4</th>\n",
       "      <td>1744-03-01</td>\n",
       "      <td>NaN</td>\n",
       "      <td>NaN</td>\n",
       "      <td>Åland</td>\n",
       "    </tr>\n",
       "  </tbody>\n",
       "</table>\n",
       "</div>"
      ],
      "text/plain": [
       "           dt  AverageTemperature  AverageTemperatureUncertainty Country\n",
       "0  1743-11-01               4.384                          2.294   Åland\n",
       "1  1743-12-01                 NaN                            NaN   Åland\n",
       "2  1744-01-01                 NaN                            NaN   Åland\n",
       "3  1744-02-01                 NaN                            NaN   Åland\n",
       "4  1744-03-01                 NaN                            NaN   Åland"
      ]
     },
     "execution_count": 237,
     "metadata": {},
     "output_type": "execute_result"
    }
   ],
   "source": [
    "df.head()"
   ]
  },
  {
   "cell_type": "markdown",
   "metadata": {},
   "source": [
    "The __[head](https://pandas.pydata.org/pandas-docs/stable/generated/pandas.DataFrame.head.html)__ method lets us see the first 5 entries of the dataframe.  Notice that a DataFrame has a similar structure to an Excel table, and that is a good way to think about it.  It is a set of numbered rows and named columns, which each row being a data sample and each column being a feature of the data.  Also, the __[tail](https://pandas.pydata.org/pandas-docs/stable/generated/pandas.DataFrame.tail.html)__ method lets us look at the end of the dataframe..."
   ]
  },
  {
   "cell_type": "code",
   "execution_count": 238,
   "metadata": {},
   "outputs": [
    {
     "data": {
      "text/html": [
       "<div>\n",
       "<style>\n",
       "    .dataframe thead tr:only-child th {\n",
       "        text-align: right;\n",
       "    }\n",
       "\n",
       "    .dataframe thead th {\n",
       "        text-align: left;\n",
       "    }\n",
       "\n",
       "    .dataframe tbody tr th {\n",
       "        vertical-align: top;\n",
       "    }\n",
       "</style>\n",
       "<table border=\"1\" class=\"dataframe\">\n",
       "  <thead>\n",
       "    <tr style=\"text-align: right;\">\n",
       "      <th></th>\n",
       "      <th>dt</th>\n",
       "      <th>AverageTemperature</th>\n",
       "      <th>AverageTemperatureUncertainty</th>\n",
       "      <th>Country</th>\n",
       "    </tr>\n",
       "  </thead>\n",
       "  <tbody>\n",
       "    <tr>\n",
       "      <th>577457</th>\n",
       "      <td>2013-05-01</td>\n",
       "      <td>19.059</td>\n",
       "      <td>1.022</td>\n",
       "      <td>Zimbabwe</td>\n",
       "    </tr>\n",
       "    <tr>\n",
       "      <th>577458</th>\n",
       "      <td>2013-06-01</td>\n",
       "      <td>17.613</td>\n",
       "      <td>0.473</td>\n",
       "      <td>Zimbabwe</td>\n",
       "    </tr>\n",
       "    <tr>\n",
       "      <th>577459</th>\n",
       "      <td>2013-07-01</td>\n",
       "      <td>17.000</td>\n",
       "      <td>0.453</td>\n",
       "      <td>Zimbabwe</td>\n",
       "    </tr>\n",
       "    <tr>\n",
       "      <th>577460</th>\n",
       "      <td>2013-08-01</td>\n",
       "      <td>19.759</td>\n",
       "      <td>0.717</td>\n",
       "      <td>Zimbabwe</td>\n",
       "    </tr>\n",
       "    <tr>\n",
       "      <th>577461</th>\n",
       "      <td>2013-09-01</td>\n",
       "      <td>NaN</td>\n",
       "      <td>NaN</td>\n",
       "      <td>Zimbabwe</td>\n",
       "    </tr>\n",
       "  </tbody>\n",
       "</table>\n",
       "</div>"
      ],
      "text/plain": [
       "                dt  AverageTemperature  AverageTemperatureUncertainty  \\\n",
       "577457  2013-05-01              19.059                          1.022   \n",
       "577458  2013-06-01              17.613                          0.473   \n",
       "577459  2013-07-01              17.000                          0.453   \n",
       "577460  2013-08-01              19.759                          0.717   \n",
       "577461  2013-09-01                 NaN                            NaN   \n",
       "\n",
       "         Country  \n",
       "577457  Zimbabwe  \n",
       "577458  Zimbabwe  \n",
       "577459  Zimbabwe  \n",
       "577460  Zimbabwe  \n",
       "577461  Zimbabwe  "
      ]
     },
     "execution_count": 238,
     "metadata": {},
     "output_type": "execute_result"
    }
   ],
   "source": [
    "df.tail()"
   ]
  },
  {
   "cell_type": "markdown",
   "metadata": {},
   "source": [
    "So, what are the data features contained in the dataframe?  Most are self explanatory.  But lets go through them anyway, just so we are sure.  The first set of rows are the data indexes, from this we can see that there are 577461 data samples.  The __dt__ column gives us the date at a monthly resolution, __AverageTemperature__ the mean temperature for that month, __AverageTemperatureUncertainty__ the 95% confidence interval around the average (so we are 95% certain the true mean temperature is this close to the reported mean), and the __Country__.  How about the NaNs?  These represent Not a Number, and mean here that there is missing data.  We can also get information on the type of data held within the DataFrame amongst other things, using the __[info](https://pandas.pydata.org/pandas-docs/stable/generated/pandas.DataFrame.info.html)__ method:  "
   ]
  },
  {
   "cell_type": "code",
   "execution_count": 240,
   "metadata": {},
   "outputs": [
    {
     "name": "stdout",
     "output_type": "stream",
     "text": [
      "<class 'pandas.core.frame.DataFrame'>\n",
      "Int64Index: 558299 entries, 0 to 577461\n",
      "Data columns (total 4 columns):\n",
      "dt                               558299 non-null object\n",
      "AverageTemperature               526013 non-null float64\n",
      "AverageTemperatureUncertainty    526752 non-null float64\n",
      "Country                          558299 non-null object\n",
      "dtypes: float64(2), object(2)\n",
      "memory usage: 21.3+ MB\n"
     ]
    }
   ],
   "source": [
    "df.info()"
   ]
  },
  {
   "cell_type": "markdown",
   "metadata": {},
   "source": [
    "Here we can see the number of entries in each column, along with the datatype."
   ]
  },
  {
   "cell_type": "markdown",
   "metadata": {},
   "source": [
    "We can also get basic statistics on the numerical data using __[describe](https://pandas.pydata.org/pandas-docs/stable/generated/pandas.DataFrame.describe.html)__:"
   ]
  },
  {
   "cell_type": "code",
   "execution_count": 239,
   "metadata": {},
   "outputs": [
    {
     "data": {
      "text/html": [
       "<div>\n",
       "<style>\n",
       "    .dataframe thead tr:only-child th {\n",
       "        text-align: right;\n",
       "    }\n",
       "\n",
       "    .dataframe thead th {\n",
       "        text-align: left;\n",
       "    }\n",
       "\n",
       "    .dataframe tbody tr th {\n",
       "        vertical-align: top;\n",
       "    }\n",
       "</style>\n",
       "<table border=\"1\" class=\"dataframe\">\n",
       "  <thead>\n",
       "    <tr style=\"text-align: right;\">\n",
       "      <th></th>\n",
       "      <th>AverageTemperature</th>\n",
       "      <th>AverageTemperatureUncertainty</th>\n",
       "    </tr>\n",
       "  </thead>\n",
       "  <tbody>\n",
       "    <tr>\n",
       "      <th>count</th>\n",
       "      <td>526013.000000</td>\n",
       "      <td>526752.000000</td>\n",
       "    </tr>\n",
       "    <tr>\n",
       "      <th>mean</th>\n",
       "      <td>17.486337</td>\n",
       "      <td>1.007586</td>\n",
       "    </tr>\n",
       "    <tr>\n",
       "      <th>std</th>\n",
       "      <td>10.760884</td>\n",
       "      <td>1.182045</td>\n",
       "    </tr>\n",
       "    <tr>\n",
       "      <th>min</th>\n",
       "      <td>-37.658000</td>\n",
       "      <td>0.052000</td>\n",
       "    </tr>\n",
       "    <tr>\n",
       "      <th>25%</th>\n",
       "      <td>10.458000</td>\n",
       "      <td>0.325000</td>\n",
       "    </tr>\n",
       "    <tr>\n",
       "      <th>50%</th>\n",
       "      <td>21.304000</td>\n",
       "      <td>0.570000</td>\n",
       "    </tr>\n",
       "    <tr>\n",
       "      <th>75%</th>\n",
       "      <td>25.902000</td>\n",
       "      <td>1.190000</td>\n",
       "    </tr>\n",
       "    <tr>\n",
       "      <th>max</th>\n",
       "      <td>38.842000</td>\n",
       "      <td>15.003000</td>\n",
       "    </tr>\n",
       "  </tbody>\n",
       "</table>\n",
       "</div>"
      ],
      "text/plain": [
       "       AverageTemperature  AverageTemperatureUncertainty\n",
       "count       526013.000000                  526752.000000\n",
       "mean            17.486337                       1.007586\n",
       "std             10.760884                       1.182045\n",
       "min            -37.658000                       0.052000\n",
       "25%             10.458000                       0.325000\n",
       "50%             21.304000                       0.570000\n",
       "75%             25.902000                       1.190000\n",
       "max             38.842000                      15.003000"
      ]
     },
     "execution_count": 239,
     "metadata": {},
     "output_type": "execute_result"
    }
   ],
   "source": [
    "df.describe()"
   ]
  },
  {
   "cell_type": "markdown",
   "metadata": {},
   "source": [
    " Let's now take a closer look at the information contained in a column, in this case __dt__."
   ]
  },
  {
   "cell_type": "markdown",
   "metadata": {},
   "source": [
    "## Closer look at a DataFrame column\n",
    "Firstly, before we go into the __dt__ column in more details, let's have a look at what data type a column is in Pandas?  Is it still a DataFrame?"
   ]
  },
  {
   "cell_type": "code",
   "execution_count": 241,
   "metadata": {},
   "outputs": [
    {
     "data": {
      "text/plain": [
       "pandas.core.series.Series"
      ]
     },
     "execution_count": 241,
     "metadata": {},
     "output_type": "execute_result"
    }
   ],
   "source": [
    "type(df.dt)"
   ]
  },
  {
   "cell_type": "markdown",
   "metadata": {},
   "source": [
    "Ok, so it is a Pandas __[Series](https://pandas.pydata.org/pandas-docs/stable/generated/pandas.Series.html)__.  It is always good to know what data type you are working with, as then you can more easily know what methods you might be able to apply to it.  Also, note that we use dot notation to access the series.  There are other ways, but I find this easiest to remember.  How about the datatype of the data samples contained in the series? To do this, let's first select one of the items in the series using the __[iloc](https://pandas.pydata.org/pandas-docs/stable/indexing.html#indexing-integer)__ method, and then check its type."
   ]
  },
  {
   "cell_type": "code",
   "execution_count": 242,
   "metadata": {},
   "outputs": [
    {
     "data": {
      "text/plain": [
       "('1743-11-01', str)"
      ]
     },
     "execution_count": 242,
     "metadata": {},
     "output_type": "execute_result"
    }
   ],
   "source": [
    "time_sample = df.dt.iloc[0]  # here we access the 0th entry of the dt series\n",
    "time_sample, type(time_sample)"
   ]
  },
  {
   "cell_type": "markdown",
   "metadata": {},
   "source": [
    "So, the time-samples are of type string, which essentially means that they are text.  We can turn them into something that may be more useful for data analysis, in the form of a timestamp.  Timestamps allow us to work with time data much more easily.  So let's have a go convert from string to a timestamp with Pandas using the __[to_datetime](https://pandas.pydata.org/pandas-docs/stable/generated/pandas.to_datetime.html)__ method. "
   ]
  },
  {
   "cell_type": "code",
   "execution_count": 243,
   "metadata": {},
   "outputs": [
    {
     "data": {
      "text/plain": [
       "Timestamp('1743-11-01 00:00:00')"
      ]
     },
     "execution_count": 243,
     "metadata": {},
     "output_type": "execute_result"
    }
   ],
   "source": [
    "time_sample = pd.to_datetime(time_sample)\n",
    "time_sample"
   ]
  },
  {
   "cell_type": "markdown",
   "metadata": {},
   "source": [
    "So using this method we have converted our string to a time object and this gives us a potentially more useful datatype for doing timeseries analysis.  Let apply this to the entire __dt__ series to convert them all from strings to timestamps:  "
   ]
  },
  {
   "cell_type": "code",
   "execution_count": 244,
   "metadata": {
    "collapsed": true
   },
   "outputs": [],
   "source": [
    "df.dt = pd.to_datetime(df.dt)  "
   ]
  },
  {
   "cell_type": "markdown",
   "metadata": {},
   "source": [
    "So what have done above is reassign the rows in __dt__ column so that each sample now contains the the timestamp generated from the string that was previously in the row.  It should be mentioned that converting from strings to datetimes is not always as easy as this, as the string formats for time can be quite variable, but there is plenty of information in the to_datetime documentation showing you how to deal with different formats.  Now check the dataframe info again to see what has changed.  Note that __dt__ is now of type datetime, which is what we want.   "
   ]
  },
  {
   "cell_type": "code",
   "execution_count": 245,
   "metadata": {},
   "outputs": [
    {
     "name": "stdout",
     "output_type": "stream",
     "text": [
      "<class 'pandas.core.frame.DataFrame'>\n",
      "Int64Index: 558299 entries, 0 to 577461\n",
      "Data columns (total 4 columns):\n",
      "dt                               558299 non-null datetime64[ns]\n",
      "AverageTemperature               526013 non-null float64\n",
      "AverageTemperatureUncertainty    526752 non-null float64\n",
      "Country                          558299 non-null object\n",
      "dtypes: datetime64[ns](1), float64(2), object(1)\n",
      "memory usage: 21.3+ MB\n"
     ]
    }
   ],
   "source": [
    "df.info()"
   ]
  },
  {
   "cell_type": "markdown",
   "metadata": {},
   "source": [
    "## Subsetting a Dataframe\n",
    "Rather than working with all the data in a DataFrame it is sometimes useful to subset it down to a more specific set of samples.  In this instance we are going to subset to all observations since January 1970 as it is in this period that global temperatures have been rising the fastest.  There are various methods to subset the dataframe.  We are going to reset in the index to the Datetime column and then do the subsetting based on the index, but you can do this similarly using any column."
   ]
  },
  {
   "cell_type": "code",
   "execution_count": 246,
   "metadata": {
    "collapsed": true
   },
   "outputs": [],
   "source": [
    "df.set_index('dt', inplace=True)  # the inplace keyword means we don't have to make a copy of the dataframe"
   ]
  },
  {
   "cell_type": "code",
   "execution_count": 247,
   "metadata": {},
   "outputs": [
    {
     "data": {
      "text/html": [
       "<div>\n",
       "<style>\n",
       "    .dataframe thead tr:only-child th {\n",
       "        text-align: right;\n",
       "    }\n",
       "\n",
       "    .dataframe thead th {\n",
       "        text-align: left;\n",
       "    }\n",
       "\n",
       "    .dataframe tbody tr th {\n",
       "        vertical-align: top;\n",
       "    }\n",
       "</style>\n",
       "<table border=\"1\" class=\"dataframe\">\n",
       "  <thead>\n",
       "    <tr style=\"text-align: right;\">\n",
       "      <th></th>\n",
       "      <th>AverageTemperature</th>\n",
       "      <th>AverageTemperatureUncertainty</th>\n",
       "      <th>Country</th>\n",
       "    </tr>\n",
       "    <tr>\n",
       "      <th>dt</th>\n",
       "      <th></th>\n",
       "      <th></th>\n",
       "      <th></th>\n",
       "    </tr>\n",
       "  </thead>\n",
       "  <tbody>\n",
       "    <tr>\n",
       "      <th>1970-01-01</th>\n",
       "      <td>-6.495</td>\n",
       "      <td>0.584</td>\n",
       "      <td>Åland</td>\n",
       "    </tr>\n",
       "    <tr>\n",
       "      <th>1970-02-01</th>\n",
       "      <td>-10.835</td>\n",
       "      <td>0.478</td>\n",
       "      <td>Åland</td>\n",
       "    </tr>\n",
       "    <tr>\n",
       "      <th>1970-03-01</th>\n",
       "      <td>-1.583</td>\n",
       "      <td>0.608</td>\n",
       "      <td>Åland</td>\n",
       "    </tr>\n",
       "    <tr>\n",
       "      <th>1970-04-01</th>\n",
       "      <td>0.493</td>\n",
       "      <td>0.463</td>\n",
       "      <td>Åland</td>\n",
       "    </tr>\n",
       "    <tr>\n",
       "      <th>1970-05-01</th>\n",
       "      <td>6.939</td>\n",
       "      <td>0.565</td>\n",
       "      <td>Åland</td>\n",
       "    </tr>\n",
       "  </tbody>\n",
       "</table>\n",
       "</div>"
      ],
      "text/plain": [
       "            AverageTemperature  AverageTemperatureUncertainty Country\n",
       "dt                                                                   \n",
       "1970-01-01              -6.495                          0.584   Åland\n",
       "1970-02-01             -10.835                          0.478   Åland\n",
       "1970-03-01              -1.583                          0.608   Åland\n",
       "1970-04-01               0.493                          0.463   Åland\n",
       "1970-05-01               6.939                          0.565   Åland"
      ]
     },
     "execution_count": 247,
     "metadata": {},
     "output_type": "execute_result"
    }
   ],
   "source": [
    "df_1970_present = df[df.index>='1970-01-01']\n",
    "df_1970_present.head()"
   ]
  },
  {
   "cell_type": "markdown",
   "metadata": {},
   "source": [
    "## Doing some data analysis\n",
    "Now lets find the five countries with the largest and the five with the smallest relatvie temperature changed since 1970.  One way to do this (though maybe not the best way!) is to fit a line to the annual mean temperature time series, and then the slope, __m__, provides indication of the rate of change in temperature through time.  Let's first investigate this with one example country:"
   ]
  },
  {
   "cell_type": "code",
   "execution_count": 248,
   "metadata": {},
   "outputs": [
    {
     "data": {
      "text/html": [
       "<div>\n",
       "<style>\n",
       "    .dataframe thead tr:only-child th {\n",
       "        text-align: right;\n",
       "    }\n",
       "\n",
       "    .dataframe thead th {\n",
       "        text-align: left;\n",
       "    }\n",
       "\n",
       "    .dataframe tbody tr th {\n",
       "        vertical-align: top;\n",
       "    }\n",
       "</style>\n",
       "<table border=\"1\" class=\"dataframe\">\n",
       "  <thead>\n",
       "    <tr style=\"text-align: right;\">\n",
       "      <th></th>\n",
       "      <th>AverageTemperature</th>\n",
       "      <th>AverageTemperatureUncertainty</th>\n",
       "      <th>Country</th>\n",
       "    </tr>\n",
       "    <tr>\n",
       "      <th>dt</th>\n",
       "      <th></th>\n",
       "      <th></th>\n",
       "      <th></th>\n",
       "    </tr>\n",
       "  </thead>\n",
       "  <tbody>\n",
       "    <tr>\n",
       "      <th>1970-01-01</th>\n",
       "      <td>3.531</td>\n",
       "      <td>0.287</td>\n",
       "      <td>United Kingdom</td>\n",
       "    </tr>\n",
       "    <tr>\n",
       "      <th>1970-02-01</th>\n",
       "      <td>2.594</td>\n",
       "      <td>0.227</td>\n",
       "      <td>United Kingdom</td>\n",
       "    </tr>\n",
       "    <tr>\n",
       "      <th>1970-03-01</th>\n",
       "      <td>3.648</td>\n",
       "      <td>0.279</td>\n",
       "      <td>United Kingdom</td>\n",
       "    </tr>\n",
       "    <tr>\n",
       "      <th>1970-04-01</th>\n",
       "      <td>5.886</td>\n",
       "      <td>0.296</td>\n",
       "      <td>United Kingdom</td>\n",
       "    </tr>\n",
       "    <tr>\n",
       "      <th>1970-05-01</th>\n",
       "      <td>11.569</td>\n",
       "      <td>0.297</td>\n",
       "      <td>United Kingdom</td>\n",
       "    </tr>\n",
       "  </tbody>\n",
       "</table>\n",
       "</div>"
      ],
      "text/plain": [
       "            AverageTemperature  AverageTemperatureUncertainty         Country\n",
       "dt                                                                           \n",
       "1970-01-01               3.531                          0.287  United Kingdom\n",
       "1970-02-01               2.594                          0.227  United Kingdom\n",
       "1970-03-01               3.648                          0.279  United Kingdom\n",
       "1970-04-01               5.886                          0.296  United Kingdom\n",
       "1970-05-01              11.569                          0.297  United Kingdom"
      ]
     },
     "execution_count": 248,
     "metadata": {},
     "output_type": "execute_result"
    }
   ],
   "source": [
    "df_1970_present_UK = df_1970_present[df_1970_present.Country == 'United Kingdom']\n",
    "df_1970_present_UK.head()"
   ]
  },
  {
   "cell_type": "markdown",
   "metadata": {},
   "source": [
    "To get the annual mean temperatures we will need to use a Pandas function called __[groupby](https://pandas.pydata.org/pandas-docs/stable/generated/pandas.DataFrame.groupby.html)__.  This lets you aggregate data which has a shared variable value, in this case the year of the index:"
   ]
  },
  {
   "cell_type": "code",
   "execution_count": 249,
   "metadata": {},
   "outputs": [
    {
     "data": {
      "text/html": [
       "<div>\n",
       "<style>\n",
       "    .dataframe thead tr:only-child th {\n",
       "        text-align: right;\n",
       "    }\n",
       "\n",
       "    .dataframe thead th {\n",
       "        text-align: left;\n",
       "    }\n",
       "\n",
       "    .dataframe tbody tr th {\n",
       "        vertical-align: top;\n",
       "    }\n",
       "</style>\n",
       "<table border=\"1\" class=\"dataframe\">\n",
       "  <thead>\n",
       "    <tr style=\"text-align: right;\">\n",
       "      <th></th>\n",
       "      <th>AverageTemperature</th>\n",
       "    </tr>\n",
       "    <tr>\n",
       "      <th>dt</th>\n",
       "      <th></th>\n",
       "    </tr>\n",
       "  </thead>\n",
       "  <tbody>\n",
       "    <tr>\n",
       "      <th>1970</th>\n",
       "      <td>8.814250</td>\n",
       "    </tr>\n",
       "    <tr>\n",
       "      <th>1971</th>\n",
       "      <td>9.243583</td>\n",
       "    </tr>\n",
       "    <tr>\n",
       "      <th>1972</th>\n",
       "      <td>8.657583</td>\n",
       "    </tr>\n",
       "    <tr>\n",
       "      <th>1973</th>\n",
       "      <td>8.955500</td>\n",
       "    </tr>\n",
       "    <tr>\n",
       "      <th>1974</th>\n",
       "      <td>8.916583</td>\n",
       "    </tr>\n",
       "  </tbody>\n",
       "</table>\n",
       "</div>"
      ],
      "text/plain": [
       "      AverageTemperature\n",
       "dt                      \n",
       "1970            8.814250\n",
       "1971            9.243583\n",
       "1972            8.657583\n",
       "1973            8.955500\n",
       "1974            8.916583"
      ]
     },
     "execution_count": 249,
     "metadata": {},
     "output_type": "execute_result"
    }
   ],
   "source": [
    "what_to_group = df_1970_present_UK.index.year\n",
    "variables_of_interest = {'AverageTemperature': np.mean}\n",
    "\n",
    "grouped_df_1970_present_UK = df_1970_present_UK.groupby(what_to_group).agg(variables_of_interest)\n",
    "grouped_df_1970_present_UK.head()"
   ]
  },
  {
   "cell_type": "markdown",
   "metadata": {},
   "source": [
    "Now that we have our yearly observations let's plot the timeseries for the UK to have a look at it using __[plot](https://pandas.pydata.org/pandas-docs/stable/generated/pandas.DataFrame.plot.html)__:"
   ]
  },
  {
   "cell_type": "code",
   "execution_count": 250,
   "metadata": {},
   "outputs": [
    {
     "data": {
      "image/png": "[encoded data removed]",
      "text/plain": [
       "<matplotlib.figure.Figure at 0x1a29dbe910>"
      ]
     },
     "metadata": {},
     "output_type": "display_data"
    }
   ],
   "source": [
    "grouped_df_1970_present_UK.plot(marker='o')\n",
    "plt.show()  # need to use matplotlib here to get it to display!"
   ]
  },
  {
   "cell_type": "markdown",
   "metadata": {},
   "source": [
    "Now let's fit a line to these data points using the numpy package, specifically the __[polyfit](https://docs.scipy.org/doc/numpy-1.13.0/reference/generated/numpy.polyfit.html)__ method:"
   ]
  },
  {
   "cell_type": "code",
   "execution_count": 251,
   "metadata": {},
   "outputs": [
    {
     "name": "stdout",
     "output_type": "stream",
     "text": [
      "0.0231359995302 -36.8574074583\n"
     ]
    }
   ],
   "source": [
    "x = grouped_df_1970_present_UK.index\n",
    "y = grouped_df_1970_present_UK.AverageTemperature\n",
    "order = 1  # by setting the order to 1 we get a linear fit.\n",
    "m, c = np.polyfit(x, y, order)  # the slope, m, gives us the rate of change in temperature per year.\n",
    "print m, c"
   ]
  },
  {
   "cell_type": "markdown",
   "metadata": {},
   "source": [
    "Now using the linear model we have generated let's make a 'fit' column with it in the dataframe that will allow us to visualise it:"
   ]
  },
  {
   "cell_type": "code",
   "execution_count": 252,
   "metadata": {
    "collapsed": true
   },
   "outputs": [],
   "source": [
    "grouped_df_1970_present_UK['fit'] = m*x + c  # y = mx + c,  the equation of a line"
   ]
  },
  {
   "cell_type": "code",
   "execution_count": 253,
   "metadata": {},
   "outputs": [
    {
     "name": "stdout",
     "output_type": "stream",
     "text": [
      "0.0231359995302 degress C per year\n"
     ]
    },
    {
     "data": {
      "image/png": "[encoded data removed]",
      "text/plain": [
       "<matplotlib.figure.Figure at 0x1a29ee59d0>"
      ]
     },
     "metadata": {},
     "output_type": "display_data"
    }
   ],
   "source": [
    "print m, 'degress C per year'\n",
    "grouped_df_1970_present_UK.plot()\n",
    "plt.show()"
   ]
  },
  {
   "cell_type": "markdown",
   "metadata": {},
   "source": [
    "Ok, so since 1970 you could argue from this data that there has been a ~1 degree celcius rise in land surface temperature in the United Kingdom.  Now let's find the those countries where the temperature is changing most and least quickly, as determined by the slope, __m__. "
   ]
  },
  {
   "cell_type": "markdown",
   "metadata": {},
   "source": [
    "# Additional Exercises (Optional)"
   ]
  },
  {
   "cell_type": "markdown",
   "metadata": {},
   "source": [
    "### Countries with Most and Least quickly changing temperatures"
   ]
  },
  {
   "cell_type": "markdown",
   "metadata": {},
   "source": [
    "To determine the rate of temperature change in any given country we again need to group the monthly data into years, but this time we also need to group by country.  This will give us the annual temperature for every country since 1970:"
   ]
  },
  {
   "cell_type": "code",
   "execution_count": 254,
   "metadata": {},
   "outputs": [
    {
     "data": {
      "text/html": [
       "<div>\n",
       "<style>\n",
       "    .dataframe thead tr:only-child th {\n",
       "        text-align: right;\n",
       "    }\n",
       "\n",
       "    .dataframe thead th {\n",
       "        text-align: left;\n",
       "    }\n",
       "\n",
       "    .dataframe tbody tr th {\n",
       "        vertical-align: top;\n",
       "    }\n",
       "</style>\n",
       "<table border=\"1\" class=\"dataframe\">\n",
       "  <thead>\n",
       "    <tr style=\"text-align: right;\">\n",
       "      <th></th>\n",
       "      <th></th>\n",
       "      <th>AverageTemperature</th>\n",
       "    </tr>\n",
       "    <tr>\n",
       "      <th>dt</th>\n",
       "      <th>Country</th>\n",
       "      <th></th>\n",
       "    </tr>\n",
       "  </thead>\n",
       "  <tbody>\n",
       "    <tr>\n",
       "      <th rowspan=\"5\" valign=\"top\">1970</th>\n",
       "      <th>Afghanistan</th>\n",
       "      <td>14.783083</td>\n",
       "    </tr>\n",
       "    <tr>\n",
       "      <th>Albania</th>\n",
       "      <td>12.839667</td>\n",
       "    </tr>\n",
       "    <tr>\n",
       "      <th>Algeria</th>\n",
       "      <td>23.322833</td>\n",
       "    </tr>\n",
       "    <tr>\n",
       "      <th>American Samoa</th>\n",
       "      <td>26.760667</td>\n",
       "    </tr>\n",
       "    <tr>\n",
       "      <th>Andorra</th>\n",
       "      <td>11.376583</td>\n",
       "    </tr>\n",
       "  </tbody>\n",
       "</table>\n",
       "</div>"
      ],
      "text/plain": [
       "                     AverageTemperature\n",
       "dt   Country                           \n",
       "1970 Afghanistan              14.783083\n",
       "     Albania                  12.839667\n",
       "     Algeria                  23.322833\n",
       "     American Samoa           26.760667\n",
       "     Andorra                  11.376583"
      ]
     },
     "execution_count": 254,
     "metadata": {},
     "output_type": "execute_result"
    }
   ],
   "source": [
    "what_to_group = [df_1970_present.index.year, df_1970_present.Country]\n",
    "variables_of_interest = {'AverageTemperature': np.mean}\n",
    "\n",
    "grouped_df_1970_present_global = df_1970_present.groupby(what_to_group).agg(variables_of_interest)\n",
    "grouped_df_1970_present_global.head()"
   ]
  },
  {
   "cell_type": "markdown",
   "metadata": {},
   "source": [
    "Now that we have a double index in the dataframe (indexed on dt and Country) it is helpful to reset the index to something more managable, and move the index values back into the dataframe itself.  Let's do that:"
   ]
  },
  {
   "cell_type": "code",
   "execution_count": 271,
   "metadata": {},
   "outputs": [
    {
     "data": {
      "text/html": [
       "<div>\n",
       "<style>\n",
       "    .dataframe thead tr:only-child th {\n",
       "        text-align: right;\n",
       "    }\n",
       "\n",
       "    .dataframe thead th {\n",
       "        text-align: left;\n",
       "    }\n",
       "\n",
       "    .dataframe tbody tr th {\n",
       "        vertical-align: top;\n",
       "    }\n",
       "</style>\n",
       "<table border=\"1\" class=\"dataframe\">\n",
       "  <thead>\n",
       "    <tr style=\"text-align: right;\">\n",
       "      <th></th>\n",
       "      <th>index</th>\n",
       "      <th>dt</th>\n",
       "      <th>Country</th>\n",
       "      <th>AverageTemperature</th>\n",
       "    </tr>\n",
       "  </thead>\n",
       "  <tbody>\n",
       "    <tr>\n",
       "      <th>0</th>\n",
       "      <td>0</td>\n",
       "      <td>1970</td>\n",
       "      <td>Afghanistan</td>\n",
       "      <td>14.783083</td>\n",
       "    </tr>\n",
       "    <tr>\n",
       "      <th>1</th>\n",
       "      <td>1</td>\n",
       "      <td>1970</td>\n",
       "      <td>Albania</td>\n",
       "      <td>12.839667</td>\n",
       "    </tr>\n",
       "    <tr>\n",
       "      <th>2</th>\n",
       "      <td>2</td>\n",
       "      <td>1970</td>\n",
       "      <td>Algeria</td>\n",
       "      <td>23.322833</td>\n",
       "    </tr>\n",
       "    <tr>\n",
       "      <th>3</th>\n",
       "      <td>3</td>\n",
       "      <td>1970</td>\n",
       "      <td>American Samoa</td>\n",
       "      <td>26.760667</td>\n",
       "    </tr>\n",
       "    <tr>\n",
       "      <th>4</th>\n",
       "      <td>4</td>\n",
       "      <td>1970</td>\n",
       "      <td>Andorra</td>\n",
       "      <td>11.376583</td>\n",
       "    </tr>\n",
       "  </tbody>\n",
       "</table>\n",
       "</div>"
      ],
      "text/plain": [
       "   index    dt         Country  AverageTemperature\n",
       "0      0  1970     Afghanistan           14.783083\n",
       "1      1  1970         Albania           12.839667\n",
       "2      2  1970         Algeria           23.322833\n",
       "3      3  1970  American Samoa           26.760667\n",
       "4      4  1970         Andorra           11.376583"
      ]
     },
     "execution_count": 271,
     "metadata": {},
     "output_type": "execute_result"
    }
   ],
   "source": [
    "grouped_df_1970_present_global.reset_index(inplace=True)  # here resetting index makes it easier to work with\n",
    "grouped_df_1970_present_global.head()"
   ]
  },
  {
   "cell_type": "markdown",
   "metadata": {},
   "source": [
    "Now we need to evalute the annual temperature time series for each country.  This is going to require a Python __for loop__, where we step over each country, subset the dataframe to only those rows with information relevant to the current country and then get the slope using the numpy polyfit method:"
   ]
  },
  {
   "cell_type": "code",
   "execution_count": 256,
   "metadata": {
    "collapsed": true
   },
   "outputs": [],
   "source": [
    "countries = []  # create a list to hold the country information\n",
    "rate_of_temperature_change = [] # create a list to hold the slope information\n",
    "for country in set(grouped_df_1970_present_global.Country):  # loop over the set of countries \n",
    "    \n",
    "    # lets get the grouped data for the current country under analysis\n",
    "    country_df = grouped_df_1970_present_global[grouped_df_1970_present_global.Country == country]\n",
    "    try:\n",
    "        \n",
    "        # do the polyfit\n",
    "        x = country_df.dt\n",
    "        y = country_df.AverageTemperature\n",
    "        order = 1\n",
    "        m, c = np.polyfit(x, y, order)\n",
    "        \n",
    "        countries.append(country)\n",
    "        rate_of_temperature_change.append(m)\n",
    "    except:\n",
    "        continue  "
   ]
  },
  {
   "cell_type": "markdown",
   "metadata": {},
   "source": [
    "We now have two lists, containing the information on the the slope, i.e. the rate of temperature change per annum, and also the country.  Let's generate a Pandas dataframe from these two lists:"
   ]
  },
  {
   "cell_type": "code",
   "execution_count": 257,
   "metadata": {},
   "outputs": [
    {
     "data": {
      "text/html": [
       "<div>\n",
       "<style>\n",
       "    .dataframe thead tr:only-child th {\n",
       "        text-align: right;\n",
       "    }\n",
       "\n",
       "    .dataframe thead th {\n",
       "        text-align: left;\n",
       "    }\n",
       "\n",
       "    .dataframe tbody tr th {\n",
       "        vertical-align: top;\n",
       "    }\n",
       "</style>\n",
       "<table border=\"1\" class=\"dataframe\">\n",
       "  <thead>\n",
       "    <tr style=\"text-align: right;\">\n",
       "      <th></th>\n",
       "      <th>Country</th>\n",
       "      <th>Temp_Slope</th>\n",
       "    </tr>\n",
       "  </thead>\n",
       "  <tbody>\n",
       "    <tr>\n",
       "      <th>0</th>\n",
       "      <td>Canada</td>\n",
       "      <td>0.050503</td>\n",
       "    </tr>\n",
       "    <tr>\n",
       "      <th>1</th>\n",
       "      <td>Federated States Of Micronesia</td>\n",
       "      <td>0.016683</td>\n",
       "    </tr>\n",
       "    <tr>\n",
       "      <th>2</th>\n",
       "      <td>Turkmenistan</td>\n",
       "      <td>0.045378</td>\n",
       "    </tr>\n",
       "    <tr>\n",
       "      <th>3</th>\n",
       "      <td>Lithuania</td>\n",
       "      <td>0.032930</td>\n",
       "    </tr>\n",
       "    <tr>\n",
       "      <th>4</th>\n",
       "      <td>Cambodia</td>\n",
       "      <td>0.016047</td>\n",
       "    </tr>\n",
       "  </tbody>\n",
       "</table>\n",
       "</div>"
      ],
      "text/plain": [
       "                          Country  Temp_Slope\n",
       "0                          Canada    0.050503\n",
       "1  Federated States Of Micronesia    0.016683\n",
       "2                    Turkmenistan    0.045378\n",
       "3                       Lithuania    0.032930\n",
       "4                        Cambodia    0.016047"
      ]
     },
     "execution_count": 257,
     "metadata": {},
     "output_type": "execute_result"
    }
   ],
   "source": [
    "rate_of_temp_change_df = pd.DataFrame({'Country': countries,\n",
    "                                       'Temp_Slope': rate_of_temperature_change})\n",
    "rate_of_temp_change_df.head()"
   ]
  },
  {
   "cell_type": "markdown",
   "metadata": {},
   "source": [
    "For the last step, let's sort the values in the new dataframe, and then print out the five countries with the largest rates of temperature change since 1970 using the __head__ method, and then the five countries with the smallest rates of temperature change since 1970 using the __tail__ method."
   ]
  },
  {
   "cell_type": "code",
   "execution_count": 272,
   "metadata": {
    "collapsed": true
   },
   "outputs": [],
   "source": [
    "rate_of_temp_change_df.sort_values('Temp_Slope', ascending=False, inplace=True)"
   ]
  },
  {
   "cell_type": "code",
   "execution_count": 273,
   "metadata": {},
   "outputs": [
    {
     "data": {
      "text/html": [
       "<div>\n",
       "<style>\n",
       "    .dataframe thead tr:only-child th {\n",
       "        text-align: right;\n",
       "    }\n",
       "\n",
       "    .dataframe thead th {\n",
       "        text-align: left;\n",
       "    }\n",
       "\n",
       "    .dataframe tbody tr th {\n",
       "        vertical-align: top;\n",
       "    }\n",
       "</style>\n",
       "<table border=\"1\" class=\"dataframe\">\n",
       "  <thead>\n",
       "    <tr style=\"text-align: right;\">\n",
       "      <th></th>\n",
       "      <th>Country</th>\n",
       "      <th>Temp_Slope</th>\n",
       "    </tr>\n",
       "  </thead>\n",
       "  <tbody>\n",
       "    <tr>\n",
       "      <th>41</th>\n",
       "      <td>Greenland</td>\n",
       "      <td>0.062985</td>\n",
       "    </tr>\n",
       "    <tr>\n",
       "      <th>32</th>\n",
       "      <td>Svalbard And Jan Mayen</td>\n",
       "      <td>0.055275</td>\n",
       "    </tr>\n",
       "    <tr>\n",
       "      <th>0</th>\n",
       "      <td>Canada</td>\n",
       "      <td>0.050503</td>\n",
       "    </tr>\n",
       "    <tr>\n",
       "      <th>132</th>\n",
       "      <td>Iran</td>\n",
       "      <td>0.047523</td>\n",
       "    </tr>\n",
       "    <tr>\n",
       "      <th>2</th>\n",
       "      <td>Turkmenistan</td>\n",
       "      <td>0.045378</td>\n",
       "    </tr>\n",
       "  </tbody>\n",
       "</table>\n",
       "</div>"
      ],
      "text/plain": [
       "                    Country  Temp_Slope\n",
       "41                Greenland    0.062985\n",
       "32   Svalbard And Jan Mayen    0.055275\n",
       "0                    Canada    0.050503\n",
       "132                    Iran    0.047523\n",
       "2              Turkmenistan    0.045378"
      ]
     },
     "execution_count": 273,
     "metadata": {},
     "output_type": "execute_result"
    }
   ],
   "source": [
    "rate_of_temp_change_df.head()"
   ]
  },
  {
   "cell_type": "code",
   "execution_count": 274,
   "metadata": {},
   "outputs": [
    {
     "data": {
      "text/html": [
       "<div>\n",
       "<style>\n",
       "    .dataframe thead tr:only-child th {\n",
       "        text-align: right;\n",
       "    }\n",
       "\n",
       "    .dataframe thead th {\n",
       "        text-align: left;\n",
       "    }\n",
       "\n",
       "    .dataframe tbody tr th {\n",
       "        vertical-align: top;\n",
       "    }\n",
       "</style>\n",
       "<table border=\"1\" class=\"dataframe\">\n",
       "  <thead>\n",
       "    <tr style=\"text-align: right;\">\n",
       "      <th></th>\n",
       "      <th>Country</th>\n",
       "      <th>Temp_Slope</th>\n",
       "    </tr>\n",
       "  </thead>\n",
       "  <tbody>\n",
       "    <tr>\n",
       "      <th>68</th>\n",
       "      <td>Peru</td>\n",
       "      <td>0.008841</td>\n",
       "    </tr>\n",
       "    <tr>\n",
       "      <th>127</th>\n",
       "      <td>Palau</td>\n",
       "      <td>0.007446</td>\n",
       "    </tr>\n",
       "    <tr>\n",
       "      <th>37</th>\n",
       "      <td>New Zealand</td>\n",
       "      <td>0.006111</td>\n",
       "    </tr>\n",
       "    <tr>\n",
       "      <th>11</th>\n",
       "      <td>Bolivia</td>\n",
       "      <td>0.005147</td>\n",
       "    </tr>\n",
       "    <tr>\n",
       "      <th>211</th>\n",
       "      <td>Timor Leste</td>\n",
       "      <td>0.002701</td>\n",
       "    </tr>\n",
       "  </tbody>\n",
       "</table>\n",
       "</div>"
      ],
      "text/plain": [
       "         Country  Temp_Slope\n",
       "68          Peru    0.008841\n",
       "127        Palau    0.007446\n",
       "37   New Zealand    0.006111\n",
       "11       Bolivia    0.005147\n",
       "211  Timor Leste    0.002701"
      ]
     },
     "execution_count": 274,
     "metadata": {},
     "output_type": "execute_result"
    }
   ],
   "source": [
    "rate_of_temp_change_df.tail()"
   ]
  },
  {
   "cell_type": "markdown",
   "metadata": {},
   "source": [
    "So we now know which countries have experienced the largest and smallest rates of annual temperature change since 1970.  Finally, as an additional step let's visualise it for all countries with Plotly:"
   ]
  },
  {
   "cell_type": "markdown",
   "metadata": {},
   "source": [
    "## Visualisation with Plotly"
   ]
  },
  {
   "cell_type": "code",
   "execution_count": 270,
   "metadata": {},
   "outputs": [
    {
     "data": {
      "text/html": [
       "<script>requirejs.config({paths: { 'plotly': ['https://cdn.plot.ly/plotly-latest.min']},});if(!window.Plotly) {{require(['plotly'],function(plotly) {window.Plotly=plotly;});}}</script>"
      ],
      "text/vnd.plotly.v1+html": [
       "<script>requirejs.config({paths: { 'plotly': ['https://cdn.plot.ly/plotly-latest.min']},});if(!window.Plotly) {{require(['plotly'],function(plotly) {window.Plotly=plotly;});}}</script>"
      ]
     },
     "metadata": {},
     "output_type": "display_data"
    },
    {
     "data": {
      "application/vnd.plotly.v1+json": {
       "data": [
        {
         "colorbar": {
          "autotick": true,
          "tickprefix": "",
          "title": "\n°C/yr"
         },
         "locationmode": "country names",
         "locations": [
          "Greenland",
          "Svalbard And Jan Mayen",
          "Canada",
          "Iran",
          "Turkmenistan",
          "Tunisia",
          "Russia",
          "United Arab Emirates",
          "Qatar",
          "Bahrain",
          "Kuwait",
          "North America",
          "Algeria",
          "Ukraine",
          "Saint Pierre And Miquelon",
          "Azerbaijan",
          "Iraq",
          "Afghanistan",
          "Uzbekistan",
          "Morocco",
          "Slovenia",
          "Saudi Arabia",
          "Moldova",
          "Mongolia",
          "Armenia",
          "Belarus",
          "Croatia",
          "Bosnia And Herzegovina",
          "Oman",
          "Finland",
          "Macedonia",
          "Serbia",
          "San Marino",
          "Montenegro",
          "Bulgaria",
          "Libya",
          "Romania",
          "Malta",
          "Spain",
          "Hungary",
          "Jordan",
          "Georgia",
          "Austria",
          "Italy",
          "Kazakhstan",
          "Albania",
          "Greece",
          "Yemen",
          "Asia",
          "Andorra",
          "Norway",
          "Estonia",
          "Western Sahara",
          "Monaco",
          "Sweden",
          "Switzerland",
          "Latvia",
          "Gaza Strip",
          "Slovakia",
          "Israel",
          "Syria",
          "United States",
          "Lithuania",
          "Cyprus",
          "Portugal",
          "Czech Republic",
          "Liechtenstein",
          "Poland",
          "Egypt",
          "Åland",
          "Kyrgyzstan",
          "Lebanon",
          "Pakistan",
          "Iceland",
          "Tajikistan",
          "Turkey",
          "France",
          "Germany",
          "Niger",
          "Luxembourg",
          "Eritrea",
          "North Korea",
          "Djibouti",
          "Netherlands",
          "China",
          "Belgium",
          "Denmark",
          "Mauritania",
          "South Korea",
          "Ethiopia",
          "Sudan",
          "Chad",
          "Mexico",
          "French Guiana",
          "Somalia",
          "Japan",
          "Jersey",
          "Guernsey",
          "Suriname",
          "British Virgin Islands",
          "Virgin Islands",
          "United Kingdom",
          "Mali",
          "Puerto Rico",
          "Sint Maarten",
          "Saint Martin",
          "Anguilla",
          "Saint Barthélemy",
          "Nigeria",
          "Cape Verde",
          "Antigua And Barbuda",
          "Saint Kitts And Nevis",
          "Montserrat",
          "Guadeloupe",
          "Mayotte",
          "Guyana",
          "Martinique",
          "Dominica",
          "Comoros",
          "Barbados",
          "Reunion",
          "Saint Lucia",
          "Trinidad And Tobago",
          "Palmyra Atoll",
          "Seychelles",
          "Kiribati",
          "Saint Vincent And The Grenadines",
          "Grenada",
          "Kingman Reef",
          "Mauritius",
          "Côte D'Ivoire",
          "South Georgia And The South Sandwich Isla",
          "Senegal",
          "Palestina",
          "Nepal",
          "Liberia",
          "Tanzania",
          "Madagascar",
          "Guinea",
          "Isle Of Man",
          "Gambia",
          "Dominican Republic",
          "Guinea Bissau",
          "Ireland",
          "Central African Republic",
          "Brazil",
          "Sierra Leone",
          "Cameroon",
          "Faroe Islands",
          "Benin",
          "Burkina Faso",
          "Ghana",
          "Burundi",
          "Sao Tome And Principe",
          "Equatorial Guinea",
          "Kenya",
          "Gabon",
          "Rwanda",
          "India",
          "Taiwan",
          "Togo",
          "Haiti",
          "Venezuela",
          "Malawi",
          "Christmas Island",
          "Uganda",
          "Turks And Caicas Islands",
          "Panama",
          "Thailand",
          "Costa Rica",
          "Singapore",
          "Bonaire, Saint Eustatius And Saba",
          "Congo (Democratic Republic Of The)",
          "Congo",
          "Laos",
          "Federated States Of Micronesia",
          "French Polynesia",
          "Zambia",
          "Nicaragua",
          "Mozambique",
          "Angola",
          "Jamaica",
          "Cambodia",
          "Sri Lanka",
          "Curaçao",
          "Solomon Islands",
          "Burma",
          "Namibia",
          "Honduras",
          "Colombia",
          "Falkland Islands (Islas Malvinas)",
          "Aruba",
          "Malaysia",
          "Cayman Islands",
          "American Samoa",
          "New Caledonia",
          "French Southern And Antarctic Lands",
          "Bhutan",
          "Vietnam",
          "Cuba",
          "Samoa",
          "Belize",
          "Bahamas",
          "El Salvador",
          "Baker Island",
          "Niue",
          "Ecuador",
          "Swaziland",
          "Guatemala",
          "Heard Island And Mcdonald Islands",
          "Uruguay",
          "Zimbabwe",
          "Bangladesh",
          "Indonesia",
          "Australia",
          "Botswana",
          "Paraguay",
          "South Africa",
          "Hong Kong",
          "Oceania",
          "Lesotho",
          "Macau",
          "Philippines",
          "Fiji",
          "Tonga",
          "Papua New Guinea",
          "Chile",
          "Argentina",
          "Guam",
          "Northern Mariana Islands",
          "Peru",
          "Palau",
          "New Zealand",
          "Bolivia",
          "Timor Leste"
         ],
         "marker": {
          "line": {
           "color": "rgb(0,0,0)",
           "width": 1
          }
         },
         "text": [
          "Greenland",
          "Svalbard And Jan Mayen",
          "Canada",
          "Iran",
          "Turkmenistan",
          "Tunisia",
          "Russia",
          "United Arab Emirates",
          "Qatar",
          "Bahrain",
          "Kuwait",
          "North America",
          "Algeria",
          "Ukraine",
          "Saint Pierre And Miquelon",
          "Azerbaijan",
          "Iraq",
          "Afghanistan",
          "Uzbekistan",
          "Morocco",
          "Slovenia",
          "Saudi Arabia",
          "Moldova",
          "Mongolia",
          "Armenia",
          "Belarus",
          "Croatia",
          "Bosnia And Herzegovina",
          "Oman",
          "Finland",
          "Macedonia",
          "Serbia",
          "San Marino",
          "Montenegro",
          "Bulgaria",
          "Libya",
          "Romania",
          "Malta",
          "Spain",
          "Hungary",
          "Jordan",
          "Georgia",
          "Austria",
          "Italy",
          "Kazakhstan",
          "Albania",
          "Greece",
          "Yemen",
          "Asia",
          "Andorra",
          "Norway",
          "Estonia",
          "Western Sahara",
          "Monaco",
          "Sweden",
          "Switzerland",
          "Latvia",
          "Gaza Strip",
          "Slovakia",
          "Israel",
          "Syria",
          "United States",
          "Lithuania",
          "Cyprus",
          "Portugal",
          "Czech Republic",
          "Liechtenstein",
          "Poland",
          "Egypt",
          "Åland",
          "Kyrgyzstan",
          "Lebanon",
          "Pakistan",
          "Iceland",
          "Tajikistan",
          "Turkey",
          "France",
          "Germany",
          "Niger",
          "Luxembourg",
          "Eritrea",
          "North Korea",
          "Djibouti",
          "Netherlands",
          "China",
          "Belgium",
          "Denmark",
          "Mauritania",
          "South Korea",
          "Ethiopia",
          "Sudan",
          "Chad",
          "Mexico",
          "French Guiana",
          "Somalia",
          "Japan",
          "Jersey",
          "Guernsey",
          "Suriname",
          "British Virgin Islands",
          "Virgin Islands",
          "United Kingdom",
          "Mali",
          "Puerto Rico",
          "Sint Maarten",
          "Saint Martin",
          "Anguilla",
          "Saint Barthélemy",
          "Nigeria",
          "Cape Verde",
          "Antigua And Barbuda",
          "Saint Kitts And Nevis",
          "Montserrat",
          "Guadeloupe",
          "Mayotte",
          "Guyana",
          "Martinique",
          "Dominica",
          "Comoros",
          "Barbados",
          "Reunion",
          "Saint Lucia",
          "Trinidad And Tobago",
          "Palmyra Atoll",
          "Seychelles",
          "Kiribati",
          "Saint Vincent And The Grenadines",
          "Grenada",
          "Kingman Reef",
          "Mauritius",
          "Côte D'Ivoire",
          "South Georgia And The South Sandwich Isla",
          "Senegal",
          "Palestina",
          "Nepal",
          "Liberia",
          "Tanzania",
          "Madagascar",
          "Guinea",
          "Isle Of Man",
          "Gambia",
          "Dominican Republic",
          "Guinea Bissau",
          "Ireland",
          "Central African Republic",
          "Brazil",
          "Sierra Leone",
          "Cameroon",
          "Faroe Islands",
          "Benin",
          "Burkina Faso",
          "Ghana",
          "Burundi",
          "Sao Tome And Principe",
          "Equatorial Guinea",
          "Kenya",
          "Gabon",
          "Rwanda",
          "India",
          "Taiwan",
          "Togo",
          "Haiti",
          "Venezuela",
          "Malawi",
          "Christmas Island",
          "Uganda",
          "Turks And Caicas Islands",
          "Panama",
          "Thailand",
          "Costa Rica",
          "Singapore",
          "Bonaire, Saint Eustatius And Saba",
          "Congo (Democratic Republic Of The)",
          "Congo",
          "Laos",
          "Federated States Of Micronesia",
          "French Polynesia",
          "Zambia",
          "Nicaragua",
          "Mozambique",
          "Angola",
          "Jamaica",
          "Cambodia",
          "Sri Lanka",
          "Curaçao",
          "Solomon Islands",
          "Burma",
          "Namibia",
          "Honduras",
          "Colombia",
          "Falkland Islands (Islas Malvinas)",
          "Aruba",
          "Malaysia",
          "Cayman Islands",
          "American Samoa",
          "New Caledonia",
          "French Southern And Antarctic Lands",
          "Bhutan",
          "Vietnam",
          "Cuba",
          "Samoa",
          "Belize",
          "Bahamas",
          "El Salvador",
          "Baker Island",
          "Niue",
          "Ecuador",
          "Swaziland",
          "Guatemala",
          "Heard Island And Mcdonald Islands",
          "Uruguay",
          "Zimbabwe",
          "Bangladesh",
          "Indonesia",
          "Australia",
          "Botswana",
          "Paraguay",
          "South Africa",
          "Hong Kong",
          "Oceania",
          "Lesotho",
          "Macau",
          "Philippines",
          "Fiji",
          "Tonga",
          "Papua New Guinea",
          "Chile",
          "Argentina",
          "Guam",
          "Northern Mariana Islands",
          "Peru",
          "Palau",
          "New Zealand",
          "Bolivia",
          "Timor Leste"
         ],
         "type": "choropleth",
         "z": [
          0.06298537115339364,
          0.05527457129433879,
          0.05050294221282564,
          0.047523361522198264,
          0.045377601597368596,
          0.04382132663847767,
          0.04345137714352804,
          0.04341494890768111,
          0.043181201550387176,
          0.042545134484378265,
          0.04200279833215846,
          0.04168994401378094,
          0.041342324406858845,
          0.04116792342024887,
          0.040696443113303185,
          0.040350372915198,
          0.04027034296452862,
          0.0401388565891469,
          0.040117471223866136,
          0.039914299976508985,
          0.03956650223161856,
          0.039283456659619076,
          0.0385921952078928,
          0.038538518910030406,
          0.03852079516091088,
          0.038398549447968215,
          0.038254163730326585,
          0.0378640415785764,
          0.03778717700258355,
          0.037685338853652765,
          0.037036742424242174,
          0.036886178646934414,
          0.03664314364575989,
          0.0363496681935634,
          0.036230123913553916,
          0.03611728917077729,
          0.036041919191919104,
          0.035872747827108226,
          0.03583481618510669,
          0.03571309607704968,
          0.03562489135541433,
          0.035541640239604946,
          0.035319647051914586,
          0.035144820295983016,
          0.035048572938689085,
          0.03471759161381238,
          0.034402989194268103,
          0.03434948320413421,
          0.03430964000469794,
          0.034260450434578205,
          0.034133535940803435,
          0.03408486610288957,
          0.03407563424947111,
          0.03400880314775651,
          0.033733579985905704,
          0.0336099072116514,
          0.03358611404745152,
          0.03349256518675094,
          0.0333568504815599,
          0.03309902807141154,
          0.0330538495419306,
          0.03297814384151573,
          0.03292976274371654,
          0.032904753934695524,
          0.03276939746300185,
          0.032636992013155015,
          0.03263571470519153,
          0.03258469285882107,
          0.03255461005402846,
          0.03247749588912411,
          0.03243291930937252,
          0.0322404921306081,
          0.03198591437632108,
          0.03192844726333086,
          0.03188290169133155,
          0.031129207775428297,
          0.03065234319943611,
          0.03041975569650005,
          0.02956376262626234,
          0.02947966290815137,
          0.029363994597134048,
          0.029154110876203867,
          0.028988883016208368,
          0.028907898754991855,
          0.028809073291049894,
          0.028702575170307783,
          0.02868939100305408,
          0.02860593140709384,
          0.026888601127554534,
          0.025322703782005945,
          0.025281360112755343,
          0.024717594550152593,
          0.023983460574739542,
          0.02394528130138586,
          0.023716587385482674,
          0.023696987315010454,
          0.023667386070002294,
          0.023667386070002294,
          0.023630808080807936,
          0.023591220342964465,
          0.023591220342964465,
          0.02313599953018551,
          0.022769796805261585,
          0.022724528228016516,
          0.022695389945971214,
          0.022695389945971214,
          0.022695389945971214,
          0.022695389945971214,
          0.022605417547568545,
          0.022556718346253016,
          0.02253508632840011,
          0.022504193093727764,
          0.02248299859055667,
          0.022399042753112306,
          0.022086598543575146,
          0.02206429997650914,
          0.022047389593610304,
          0.022047389593610304,
          0.02183338912379599,
          0.02148413495419304,
          0.02145228153629309,
          0.02138242894056836,
          0.02137655332393694,
          0.02133616102889351,
          0.021252093610523753,
          0.021251482851773418,
          0.02124148167723737,
          0.021201435870331038,
          0.02113610230209058,
          0.02112840321822866,
          0.021123434930702168,
          0.020820721752407786,
          0.02062665609584196,
          0.020605288348602223,
          0.020562825933756128,
          0.02048788466055892,
          0.0204594197791871,
          0.02039140826873377,
          0.020370630725863183,
          0.020300055790462703,
          0.020253162438336702,
          0.020145889123795963,
          0.01992897580455712,
          0.019916214470284167,
          0.01988730032887004,
          0.019838791989664005,
          0.019785465116278947,
          0.019645962532299506,
          0.01946798508339213,
          0.019238621681935544,
          0.019180502701432685,
          0.01912301503406138,
          0.019115439276485704,
          0.018920824524312853,
          0.018890409913084164,
          0.018652742541695938,
          0.018508562367864613,
          0.018426559196617225,
          0.01825299506694848,
          0.018243874794456248,
          0.018187632135306442,
          0.018156005794377896,
          0.018000748766736917,
          0.017982966290815035,
          0.017886804087385397,
          0.017772213413201617,
          0.017625808472320134,
          0.01759570119802671,
          0.017525179116748682,
          0.017495170699240437,
          0.017189373385012693,
          0.017188322175240647,
          0.017178949377495742,
          0.01713034120272481,
          0.01678541226215622,
          0.01668303382663845,
          0.01664561017148224,
          0.016369309372797514,
          0.016218620311643426,
          0.016147451256753396,
          0.016077915785764455,
          0.01605458656330743,
          0.016047213413201703,
          0.01594615045806896,
          0.015770560253699512,
          0.01565863871270853,
          0.015531926826403402,
          0.015346320765797412,
          0.015274389241249572,
          0.015222034296452866,
          0.015156436457599171,
          0.015139164904862399,
          0.015136216819356174,
          0.015131223083548657,
          0.015015086915668281,
          0.014876130490956025,
          0.014874553676297812,
          0.014855165022316114,
          0.014812376673713847,
          0.014620967426200056,
          0.014616696030067952,
          0.014401051209772042,
          0.014192870566126411,
          0.014121783728760391,
          0.013890057552266702,
          0.013368246417664986,
          0.01335500645994828,
          0.013354645290110373,
          0.013007188160676468,
          0.012874641766502146,
          0.012779759807376001,
          0.012764617101244932,
          0.012727454780361688,
          0.012466420014094402,
          0.011896027131782777,
          0.011859202490016226,
          0.011798549447968041,
          0.011775284824994159,
          0.011690354122621475,
          0.011642159971810968,
          0.011498094315245545,
          0.01117883486023015,
          0.01100961945031716,
          0.010745187338501246,
          0.010479008104298785,
          0.010171538054968328,
          0.010131298449612365,
          0.009845222574582905,
          0.00900697380784597,
          0.00900697380784597,
          0.008841390650692955,
          0.007445839206013642,
          0.006111046511627747,
          0.005147283885365252,
          0.0027009337561662472
         ]
        }
       ],
       "layout": {
        "geo": {
         "lataxis": {
          "gridcolor": "rgb(102, 102, 102)",
          "showgrid": true
         },
         "lonaxis": {
          "gridcolor": "rgb(102, 102, 102)",
          "showgrid": true
         },
         "oceancolor": "rgb(0,255,255)",
         "projection": {
          "rotation": {
           "lat": 10,
           "lon": 0
          },
          "type": "orthographic"
         },
         "showframe": false,
         "showocean": true
        },
        "title": "Rate of Temperature Change since 1970 by Country"
       }
      },
      "text/html": [
       "<div id=\"960d751f-a925-48d4-8de8-9bc2c07b66ba\" style=\"height: 525px; width: 100%;\" class=\"plotly-graph-div\"></div><script type=\"text/javascript\">require([\"plotly\"], function(Plotly) { window.PLOTLYENV=window.PLOTLYENV || {};window.PLOTLYENV.BASE_URL=\"https://plot.ly\";Plotly.newPlot(\"960d751f-a925-48d4-8de8-9bc2c07b66ba\", [{\"text\": [\"Greenland\", \"Svalbard And Jan Mayen\", \"Canada\", \"Iran\", \"Turkmenistan\", \"Tunisia\", \"Russia\", \"United Arab Emirates\", \"Qatar\", \"Bahrain\", \"Kuwait\", \"North America\", \"Algeria\", \"Ukraine\", \"Saint Pierre And Miquelon\", \"Azerbaijan\", \"Iraq\", \"Afghanistan\", \"Uzbekistan\", \"Morocco\", \"Slovenia\", \"Saudi Arabia\", \"Moldova\", \"Mongolia\", \"Armenia\", \"Belarus\", \"Croatia\", \"Bosnia And Herzegovina\", \"Oman\", \"Finland\", \"Macedonia\", \"Serbia\", \"San Marino\", \"Montenegro\", \"Bulgaria\", \"Libya\", \"Romania\", \"Malta\", \"Spain\", \"Hungary\", \"Jordan\", \"Georgia\", \"Austria\", \"Italy\", \"Kazakhstan\", \"Albania\", \"Greece\", \"Yemen\", \"Asia\", \"Andorra\", \"Norway\", \"Estonia\", \"Western Sahara\", \"Monaco\", \"Sweden\", \"Switzerland\", \"Latvia\", \"Gaza Strip\", \"Slovakia\", \"Israel\", \"Syria\", \"United States\", \"Lithuania\", \"Cyprus\", \"Portugal\", \"Czech Republic\", \"Liechtenstein\", \"Poland\", \"Egypt\", \"\\u00c5land\", \"Kyrgyzstan\", \"Lebanon\", \"Pakistan\", \"Iceland\", \"Tajikistan\", \"Turkey\", \"France\", \"Germany\", \"Niger\", \"Luxembourg\", \"Eritrea\", \"North Korea\", \"Djibouti\", \"Netherlands\", \"China\", \"Belgium\", \"Denmark\", \"Mauritania\", \"South Korea\", \"Ethiopia\", \"Sudan\", \"Chad\", \"Mexico\", \"French Guiana\", \"Somalia\", \"Japan\", \"Jersey\", \"Guernsey\", \"Suriname\", \"British Virgin Islands\", \"Virgin Islands\", \"United Kingdom\", \"Mali\", \"Puerto Rico\", \"Sint Maarten\", \"Saint Martin\", \"Anguilla\", \"Saint Barth\\u00e9lemy\", \"Nigeria\", \"Cape Verde\", \"Antigua And Barbuda\", \"Saint Kitts And Nevis\", \"Montserrat\", \"Guadeloupe\", \"Mayotte\", \"Guyana\", \"Martinique\", \"Dominica\", \"Comoros\", \"Barbados\", \"Reunion\", \"Saint Lucia\", \"Trinidad And Tobago\", \"Palmyra Atoll\", \"Seychelles\", \"Kiribati\", \"Saint Vincent And The Grenadines\", \"Grenada\", \"Kingman Reef\", \"Mauritius\", \"C\\u00f4te D'Ivoire\", \"South Georgia And The South Sandwich Isla\", \"Senegal\", \"Palestina\", \"Nepal\", \"Liberia\", \"Tanzania\", \"Madagascar\", \"Guinea\", \"Isle Of Man\", \"Gambia\", \"Dominican Republic\", \"Guinea Bissau\", \"Ireland\", \"Central African Republic\", \"Brazil\", \"Sierra Leone\", \"Cameroon\", \"Faroe Islands\", \"Benin\", \"Burkina Faso\", \"Ghana\", \"Burundi\", \"Sao Tome And Principe\", \"Equatorial Guinea\", \"Kenya\", \"Gabon\", \"Rwanda\", \"India\", \"Taiwan\", \"Togo\", \"Haiti\", \"Venezuela\", \"Malawi\", \"Christmas Island\", \"Uganda\", \"Turks And Caicas Islands\", \"Panama\", \"Thailand\", \"Costa Rica\", \"Singapore\", \"Bonaire, Saint Eustatius And Saba\", \"Congo (Democratic Republic Of The)\", \"Congo\", \"Laos\", \"Federated States Of Micronesia\", \"French Polynesia\", \"Zambia\", \"Nicaragua\", \"Mozambique\", \"Angola\", \"Jamaica\", \"Cambodia\", \"Sri Lanka\", \"Cura\\u00e7ao\", \"Solomon Islands\", \"Burma\", \"Namibia\", \"Honduras\", \"Colombia\", \"Falkland Islands (Islas Malvinas)\", \"Aruba\", \"Malaysia\", \"Cayman Islands\", \"American Samoa\", \"New Caledonia\", \"French Southern And Antarctic Lands\", \"Bhutan\", \"Vietnam\", \"Cuba\", \"Samoa\", \"Belize\", \"Bahamas\", \"El Salvador\", \"Baker Island\", \"Niue\", \"Ecuador\", \"Swaziland\", \"Guatemala\", \"Heard Island And Mcdonald Islands\", \"Uruguay\", \"Zimbabwe\", \"Bangladesh\", \"Indonesia\", \"Australia\", \"Botswana\", \"Paraguay\", \"South Africa\", \"Hong Kong\", \"Oceania\", \"Lesotho\", \"Macau\", \"Philippines\", \"Fiji\", \"Tonga\", \"Papua New Guinea\", \"Chile\", \"Argentina\", \"Guam\", \"Northern Mariana Islands\", \"Peru\", \"Palau\", \"New Zealand\", \"Bolivia\", \"Timor Leste\"], \"locations\": [\"Greenland\", \"Svalbard And Jan Mayen\", \"Canada\", \"Iran\", \"Turkmenistan\", \"Tunisia\", \"Russia\", \"United Arab Emirates\", \"Qatar\", \"Bahrain\", \"Kuwait\", \"North America\", \"Algeria\", \"Ukraine\", \"Saint Pierre And Miquelon\", \"Azerbaijan\", \"Iraq\", \"Afghanistan\", \"Uzbekistan\", \"Morocco\", \"Slovenia\", \"Saudi Arabia\", \"Moldova\", \"Mongolia\", \"Armenia\", \"Belarus\", \"Croatia\", \"Bosnia And Herzegovina\", \"Oman\", \"Finland\", \"Macedonia\", \"Serbia\", \"San Marino\", \"Montenegro\", \"Bulgaria\", \"Libya\", \"Romania\", \"Malta\", \"Spain\", \"Hungary\", \"Jordan\", \"Georgia\", \"Austria\", \"Italy\", \"Kazakhstan\", \"Albania\", \"Greece\", \"Yemen\", \"Asia\", \"Andorra\", \"Norway\", \"Estonia\", \"Western Sahara\", \"Monaco\", \"Sweden\", \"Switzerland\", \"Latvia\", \"Gaza Strip\", \"Slovakia\", \"Israel\", \"Syria\", \"United States\", \"Lithuania\", \"Cyprus\", \"Portugal\", \"Czech Republic\", \"Liechtenstein\", \"Poland\", \"Egypt\", \"\\u00c5land\", \"Kyrgyzstan\", \"Lebanon\", \"Pakistan\", \"Iceland\", \"Tajikistan\", \"Turkey\", \"France\", \"Germany\", \"Niger\", \"Luxembourg\", \"Eritrea\", \"North Korea\", \"Djibouti\", \"Netherlands\", \"China\", \"Belgium\", \"Denmark\", \"Mauritania\", \"South Korea\", \"Ethiopia\", \"Sudan\", \"Chad\", \"Mexico\", \"French Guiana\", \"Somalia\", \"Japan\", \"Jersey\", \"Guernsey\", \"Suriname\", \"British Virgin Islands\", \"Virgin Islands\", \"United Kingdom\", \"Mali\", \"Puerto Rico\", \"Sint Maarten\", \"Saint Martin\", \"Anguilla\", \"Saint Barth\\u00e9lemy\", \"Nigeria\", \"Cape Verde\", \"Antigua And Barbuda\", \"Saint Kitts And Nevis\", \"Montserrat\", \"Guadeloupe\", \"Mayotte\", \"Guyana\", \"Martinique\", \"Dominica\", \"Comoros\", \"Barbados\", \"Reunion\", \"Saint Lucia\", \"Trinidad And Tobago\", \"Palmyra Atoll\", \"Seychelles\", \"Kiribati\", \"Saint Vincent And The Grenadines\", \"Grenada\", \"Kingman Reef\", \"Mauritius\", \"C\\u00f4te D'Ivoire\", \"South Georgia And The South Sandwich Isla\", \"Senegal\", \"Palestina\", \"Nepal\", \"Liberia\", \"Tanzania\", \"Madagascar\", \"Guinea\", \"Isle Of Man\", \"Gambia\", \"Dominican Republic\", \"Guinea Bissau\", \"Ireland\", \"Central African Republic\", \"Brazil\", \"Sierra Leone\", \"Cameroon\", \"Faroe Islands\", \"Benin\", \"Burkina Faso\", \"Ghana\", \"Burundi\", \"Sao Tome And Principe\", \"Equatorial Guinea\", \"Kenya\", \"Gabon\", \"Rwanda\", \"India\", \"Taiwan\", \"Togo\", \"Haiti\", \"Venezuela\", \"Malawi\", \"Christmas Island\", \"Uganda\", \"Turks And Caicas Islands\", \"Panama\", \"Thailand\", \"Costa Rica\", \"Singapore\", \"Bonaire, Saint Eustatius And Saba\", \"Congo (Democratic Republic Of The)\", \"Congo\", \"Laos\", \"Federated States Of Micronesia\", \"French Polynesia\", \"Zambia\", \"Nicaragua\", \"Mozambique\", \"Angola\", \"Jamaica\", \"Cambodia\", \"Sri Lanka\", \"Cura\\u00e7ao\", \"Solomon Islands\", \"Burma\", \"Namibia\", \"Honduras\", \"Colombia\", \"Falkland Islands (Islas Malvinas)\", \"Aruba\", \"Malaysia\", \"Cayman Islands\", \"American Samoa\", \"New Caledonia\", \"French Southern And Antarctic Lands\", \"Bhutan\", \"Vietnam\", \"Cuba\", \"Samoa\", \"Belize\", \"Bahamas\", \"El Salvador\", \"Baker Island\", \"Niue\", \"Ecuador\", \"Swaziland\", \"Guatemala\", \"Heard Island And Mcdonald Islands\", \"Uruguay\", \"Zimbabwe\", \"Bangladesh\", \"Indonesia\", \"Australia\", \"Botswana\", \"Paraguay\", \"South Africa\", \"Hong Kong\", \"Oceania\", \"Lesotho\", \"Macau\", \"Philippines\", \"Fiji\", \"Tonga\", \"Papua New Guinea\", \"Chile\", \"Argentina\", \"Guam\", \"Northern Mariana Islands\", \"Peru\", \"Palau\", \"New Zealand\", \"Bolivia\", \"Timor Leste\"], \"colorbar\": {\"tickprefix\": \"\", \"autotick\": true, \"title\": \"\\n\\u00b0C/yr\"}, \"marker\": {\"line\": {\"color\": \"rgb(0,0,0)\", \"width\": 1}}, \"locationmode\": \"country names\", \"z\": [0.06298537115339364, 0.05527457129433879, 0.05050294221282564, 0.047523361522198264, 0.045377601597368596, 0.04382132663847767, 0.04345137714352804, 0.04341494890768111, 0.043181201550387176, 0.042545134484378265, 0.04200279833215846, 0.04168994401378094, 0.041342324406858845, 0.04116792342024887, 0.040696443113303185, 0.040350372915198, 0.04027034296452862, 0.0401388565891469, 0.040117471223866136, 0.039914299976508985, 0.03956650223161856, 0.039283456659619076, 0.0385921952078928, 0.038538518910030406, 0.03852079516091088, 0.038398549447968215, 0.038254163730326585, 0.0378640415785764, 0.03778717700258355, 0.037685338853652765, 0.037036742424242174, 0.036886178646934414, 0.03664314364575989, 0.0363496681935634, 0.036230123913553916, 0.03611728917077729, 0.036041919191919104, 0.035872747827108226, 0.03583481618510669, 0.03571309607704968, 0.03562489135541433, 0.035541640239604946, 0.035319647051914586, 0.035144820295983016, 0.035048572938689085, 0.03471759161381238, 0.034402989194268103, 0.03434948320413421, 0.03430964000469794, 0.034260450434578205, 0.034133535940803435, 0.03408486610288957, 0.03407563424947111, 0.03400880314775651, 0.033733579985905704, 0.0336099072116514, 0.03358611404745152, 0.03349256518675094, 0.0333568504815599, 0.03309902807141154, 0.0330538495419306, 0.03297814384151573, 0.03292976274371654, 0.032904753934695524, 0.03276939746300185, 0.032636992013155015, 0.03263571470519153, 0.03258469285882107, 0.03255461005402846, 0.03247749588912411, 0.03243291930937252, 0.0322404921306081, 0.03198591437632108, 0.03192844726333086, 0.03188290169133155, 0.031129207775428297, 0.03065234319943611, 0.03041975569650005, 0.02956376262626234, 0.02947966290815137, 0.029363994597134048, 0.029154110876203867, 0.028988883016208368, 0.028907898754991855, 0.028809073291049894, 0.028702575170307783, 0.02868939100305408, 0.02860593140709384, 0.026888601127554534, 0.025322703782005945, 0.025281360112755343, 0.024717594550152593, 0.023983460574739542, 0.02394528130138586, 0.023716587385482674, 0.023696987315010454, 0.023667386070002294, 0.023667386070002294, 0.023630808080807936, 0.023591220342964465, 0.023591220342964465, 0.02313599953018551, 0.022769796805261585, 0.022724528228016516, 0.022695389945971214, 0.022695389945971214, 0.022695389945971214, 0.022695389945971214, 0.022605417547568545, 0.022556718346253016, 0.02253508632840011, 0.022504193093727764, 0.02248299859055667, 0.022399042753112306, 0.022086598543575146, 0.02206429997650914, 0.022047389593610304, 0.022047389593610304, 0.02183338912379599, 0.02148413495419304, 0.02145228153629309, 0.02138242894056836, 0.02137655332393694, 0.02133616102889351, 0.021252093610523753, 0.021251482851773418, 0.02124148167723737, 0.021201435870331038, 0.02113610230209058, 0.02112840321822866, 0.021123434930702168, 0.020820721752407786, 0.02062665609584196, 0.020605288348602223, 0.020562825933756128, 0.02048788466055892, 0.0204594197791871, 0.02039140826873377, 0.020370630725863183, 0.020300055790462703, 0.020253162438336702, 0.020145889123795963, 0.01992897580455712, 0.019916214470284167, 0.01988730032887004, 0.019838791989664005, 0.019785465116278947, 0.019645962532299506, 0.01946798508339213, 0.019238621681935544, 0.019180502701432685, 0.01912301503406138, 0.019115439276485704, 0.018920824524312853, 0.018890409913084164, 0.018652742541695938, 0.018508562367864613, 0.018426559196617225, 0.01825299506694848, 0.018243874794456248, 0.018187632135306442, 0.018156005794377896, 0.018000748766736917, 0.017982966290815035, 0.017886804087385397, 0.017772213413201617, 0.017625808472320134, 0.01759570119802671, 0.017525179116748682, 0.017495170699240437, 0.017189373385012693, 0.017188322175240647, 0.017178949377495742, 0.01713034120272481, 0.01678541226215622, 0.01668303382663845, 0.01664561017148224, 0.016369309372797514, 0.016218620311643426, 0.016147451256753396, 0.016077915785764455, 0.01605458656330743, 0.016047213413201703, 0.01594615045806896, 0.015770560253699512, 0.01565863871270853, 0.015531926826403402, 0.015346320765797412, 0.015274389241249572, 0.015222034296452866, 0.015156436457599171, 0.015139164904862399, 0.015136216819356174, 0.015131223083548657, 0.015015086915668281, 0.014876130490956025, 0.014874553676297812, 0.014855165022316114, 0.014812376673713847, 0.014620967426200056, 0.014616696030067952, 0.014401051209772042, 0.014192870566126411, 0.014121783728760391, 0.013890057552266702, 0.013368246417664986, 0.01335500645994828, 0.013354645290110373, 0.013007188160676468, 0.012874641766502146, 0.012779759807376001, 0.012764617101244932, 0.012727454780361688, 0.012466420014094402, 0.011896027131782777, 0.011859202490016226, 0.011798549447968041, 0.011775284824994159, 0.011690354122621475, 0.011642159971810968, 0.011498094315245545, 0.01117883486023015, 0.01100961945031716, 0.010745187338501246, 0.010479008104298785, 0.010171538054968328, 0.010131298449612365, 0.009845222574582905, 0.00900697380784597, 0.00900697380784597, 0.008841390650692955, 0.007445839206013642, 0.006111046511627747, 0.005147283885365252, 0.0027009337561662472], \"type\": \"choropleth\"}], {\"geo\": {\"lonaxis\": {\"gridcolor\": \"rgb(102, 102, 102)\", \"showgrid\": true}, \"projection\": {\"rotation\": {\"lat\": 10, \"lon\": 0}, \"type\": \"orthographic\"}, \"lataxis\": {\"gridcolor\": \"rgb(102, 102, 102)\", \"showgrid\": true}, \"showframe\": false, \"showocean\": true, \"oceancolor\": \"rgb(0,255,255)\"}, \"title\": \"Rate of Temperature Change since 1970 by Country\"}, {\"linkText\": \"Export to plot.ly\", \"showLink\": true})});</script>"
      ],
      "text/vnd.plotly.v1+html": [
       "<div id=\"960d751f-a925-48d4-8de8-9bc2c07b66ba\" style=\"height: 525px; width: 100%;\" class=\"plotly-graph-div\"></div><script type=\"text/javascript\">require([\"plotly\"], function(Plotly) { window.PLOTLYENV=window.PLOTLYENV || {};window.PLOTLYENV.BASE_URL=\"https://plot.ly\";Plotly.newPlot(\"960d751f-a925-48d4-8de8-9bc2c07b66ba\", [{\"text\": [\"Greenland\", \"Svalbard And Jan Mayen\", \"Canada\", \"Iran\", \"Turkmenistan\", \"Tunisia\", \"Russia\", \"United Arab Emirates\", \"Qatar\", \"Bahrain\", \"Kuwait\", \"North America\", \"Algeria\", \"Ukraine\", \"Saint Pierre And Miquelon\", \"Azerbaijan\", \"Iraq\", \"Afghanistan\", \"Uzbekistan\", \"Morocco\", \"Slovenia\", \"Saudi Arabia\", \"Moldova\", \"Mongolia\", \"Armenia\", \"Belarus\", \"Croatia\", \"Bosnia And Herzegovina\", \"Oman\", \"Finland\", \"Macedonia\", \"Serbia\", \"San Marino\", \"Montenegro\", \"Bulgaria\", \"Libya\", \"Romania\", \"Malta\", \"Spain\", \"Hungary\", \"Jordan\", \"Georgia\", \"Austria\", \"Italy\", \"Kazakhstan\", \"Albania\", \"Greece\", \"Yemen\", \"Asia\", \"Andorra\", \"Norway\", \"Estonia\", \"Western Sahara\", \"Monaco\", \"Sweden\", \"Switzerland\", \"Latvia\", \"Gaza Strip\", \"Slovakia\", \"Israel\", \"Syria\", \"United States\", \"Lithuania\", \"Cyprus\", \"Portugal\", \"Czech Republic\", \"Liechtenstein\", \"Poland\", \"Egypt\", \"\\u00c5land\", \"Kyrgyzstan\", \"Lebanon\", \"Pakistan\", \"Iceland\", \"Tajikistan\", \"Turkey\", \"France\", \"Germany\", \"Niger\", \"Luxembourg\", \"Eritrea\", \"North Korea\", \"Djibouti\", \"Netherlands\", \"China\", \"Belgium\", \"Denmark\", \"Mauritania\", \"South Korea\", \"Ethiopia\", \"Sudan\", \"Chad\", \"Mexico\", \"French Guiana\", \"Somalia\", \"Japan\", \"Jersey\", \"Guernsey\", \"Suriname\", \"British Virgin Islands\", \"Virgin Islands\", \"United Kingdom\", \"Mali\", \"Puerto Rico\", \"Sint Maarten\", \"Saint Martin\", \"Anguilla\", \"Saint Barth\\u00e9lemy\", \"Nigeria\", \"Cape Verde\", \"Antigua And Barbuda\", \"Saint Kitts And Nevis\", \"Montserrat\", \"Guadeloupe\", \"Mayotte\", \"Guyana\", \"Martinique\", \"Dominica\", \"Comoros\", \"Barbados\", \"Reunion\", \"Saint Lucia\", \"Trinidad And Tobago\", \"Palmyra Atoll\", \"Seychelles\", \"Kiribati\", \"Saint Vincent And The Grenadines\", \"Grenada\", \"Kingman Reef\", \"Mauritius\", \"C\\u00f4te D'Ivoire\", \"South Georgia And The South Sandwich Isla\", \"Senegal\", \"Palestina\", \"Nepal\", \"Liberia\", \"Tanzania\", \"Madagascar\", \"Guinea\", \"Isle Of Man\", \"Gambia\", \"Dominican Republic\", \"Guinea Bissau\", \"Ireland\", \"Central African Republic\", \"Brazil\", \"Sierra Leone\", \"Cameroon\", \"Faroe Islands\", \"Benin\", \"Burkina Faso\", \"Ghana\", \"Burundi\", \"Sao Tome And Principe\", \"Equatorial Guinea\", \"Kenya\", \"Gabon\", \"Rwanda\", \"India\", \"Taiwan\", \"Togo\", \"Haiti\", \"Venezuela\", \"Malawi\", \"Christmas Island\", \"Uganda\", \"Turks And Caicas Islands\", \"Panama\", \"Thailand\", \"Costa Rica\", \"Singapore\", \"Bonaire, Saint Eustatius And Saba\", \"Congo (Democratic Republic Of The)\", \"Congo\", \"Laos\", \"Federated States Of Micronesia\", \"French Polynesia\", \"Zambia\", \"Nicaragua\", \"Mozambique\", \"Angola\", \"Jamaica\", \"Cambodia\", \"Sri Lanka\", \"Cura\\u00e7ao\", \"Solomon Islands\", \"Burma\", \"Namibia\", \"Honduras\", \"Colombia\", \"Falkland Islands (Islas Malvinas)\", \"Aruba\", \"Malaysia\", \"Cayman Islands\", \"American Samoa\", \"New Caledonia\", \"French Southern And Antarctic Lands\", \"Bhutan\", \"Vietnam\", \"Cuba\", \"Samoa\", \"Belize\", \"Bahamas\", \"El Salvador\", \"Baker Island\", \"Niue\", \"Ecuador\", \"Swaziland\", \"Guatemala\", \"Heard Island And Mcdonald Islands\", \"Uruguay\", \"Zimbabwe\", \"Bangladesh\", \"Indonesia\", \"Australia\", \"Botswana\", \"Paraguay\", \"South Africa\", \"Hong Kong\", \"Oceania\", \"Lesotho\", \"Macau\", \"Philippines\", \"Fiji\", \"Tonga\", \"Papua New Guinea\", \"Chile\", \"Argentina\", \"Guam\", \"Northern Mariana Islands\", \"Peru\", \"Palau\", \"New Zealand\", \"Bolivia\", \"Timor Leste\"], \"locations\": [\"Greenland\", \"Svalbard And Jan Mayen\", \"Canada\", \"Iran\", \"Turkmenistan\", \"Tunisia\", \"Russia\", \"United Arab Emirates\", \"Qatar\", \"Bahrain\", \"Kuwait\", \"North America\", \"Algeria\", \"Ukraine\", \"Saint Pierre And Miquelon\", \"Azerbaijan\", \"Iraq\", \"Afghanistan\", \"Uzbekistan\", \"Morocco\", \"Slovenia\", \"Saudi Arabia\", \"Moldova\", \"Mongolia\", \"Armenia\", \"Belarus\", \"Croatia\", \"Bosnia And Herzegovina\", \"Oman\", \"Finland\", \"Macedonia\", \"Serbia\", \"San Marino\", \"Montenegro\", \"Bulgaria\", \"Libya\", \"Romania\", \"Malta\", \"Spain\", \"Hungary\", \"Jordan\", \"Georgia\", \"Austria\", \"Italy\", \"Kazakhstan\", \"Albania\", \"Greece\", \"Yemen\", \"Asia\", \"Andorra\", \"Norway\", \"Estonia\", \"Western Sahara\", \"Monaco\", \"Sweden\", \"Switzerland\", \"Latvia\", \"Gaza Strip\", \"Slovakia\", \"Israel\", \"Syria\", \"United States\", \"Lithuania\", \"Cyprus\", \"Portugal\", \"Czech Republic\", \"Liechtenstein\", \"Poland\", \"Egypt\", \"\\u00c5land\", \"Kyrgyzstan\", \"Lebanon\", \"Pakistan\", \"Iceland\", \"Tajikistan\", \"Turkey\", \"France\", \"Germany\", \"Niger\", \"Luxembourg\", \"Eritrea\", \"North Korea\", \"Djibouti\", \"Netherlands\", \"China\", \"Belgium\", \"Denmark\", \"Mauritania\", \"South Korea\", \"Ethiopia\", \"Sudan\", \"Chad\", \"Mexico\", \"French Guiana\", \"Somalia\", \"Japan\", \"Jersey\", \"Guernsey\", \"Suriname\", \"British Virgin Islands\", \"Virgin Islands\", \"United Kingdom\", \"Mali\", \"Puerto Rico\", \"Sint Maarten\", \"Saint Martin\", \"Anguilla\", \"Saint Barth\\u00e9lemy\", \"Nigeria\", \"Cape Verde\", \"Antigua And Barbuda\", \"Saint Kitts And Nevis\", \"Montserrat\", \"Guadeloupe\", \"Mayotte\", \"Guyana\", \"Martinique\", \"Dominica\", \"Comoros\", \"Barbados\", \"Reunion\", \"Saint Lucia\", \"Trinidad And Tobago\", \"Palmyra Atoll\", \"Seychelles\", \"Kiribati\", \"Saint Vincent And The Grenadines\", \"Grenada\", \"Kingman Reef\", \"Mauritius\", \"C\\u00f4te D'Ivoire\", \"South Georgia And The South Sandwich Isla\", \"Senegal\", \"Palestina\", \"Nepal\", \"Liberia\", \"Tanzania\", \"Madagascar\", \"Guinea\", \"Isle Of Man\", \"Gambia\", \"Dominican Republic\", \"Guinea Bissau\", \"Ireland\", \"Central African Republic\", \"Brazil\", \"Sierra Leone\", \"Cameroon\", \"Faroe Islands\", \"Benin\", \"Burkina Faso\", \"Ghana\", \"Burundi\", \"Sao Tome And Principe\", \"Equatorial Guinea\", \"Kenya\", \"Gabon\", \"Rwanda\", \"India\", \"Taiwan\", \"Togo\", \"Haiti\", \"Venezuela\", \"Malawi\", \"Christmas Island\", \"Uganda\", \"Turks And Caicas Islands\", \"Panama\", \"Thailand\", \"Costa Rica\", \"Singapore\", \"Bonaire, Saint Eustatius And Saba\", \"Congo (Democratic Republic Of The)\", \"Congo\", \"Laos\", \"Federated States Of Micronesia\", \"French Polynesia\", \"Zambia\", \"Nicaragua\", \"Mozambique\", \"Angola\", \"Jamaica\", \"Cambodia\", \"Sri Lanka\", \"Cura\\u00e7ao\", \"Solomon Islands\", \"Burma\", \"Namibia\", \"Honduras\", \"Colombia\", \"Falkland Islands (Islas Malvinas)\", \"Aruba\", \"Malaysia\", \"Cayman Islands\", \"American Samoa\", \"New Caledonia\", \"French Southern And Antarctic Lands\", \"Bhutan\", \"Vietnam\", \"Cuba\", \"Samoa\", \"Belize\", \"Bahamas\", \"El Salvador\", \"Baker Island\", \"Niue\", \"Ecuador\", \"Swaziland\", \"Guatemala\", \"Heard Island And Mcdonald Islands\", \"Uruguay\", \"Zimbabwe\", \"Bangladesh\", \"Indonesia\", \"Australia\", \"Botswana\", \"Paraguay\", \"South Africa\", \"Hong Kong\", \"Oceania\", \"Lesotho\", \"Macau\", \"Philippines\", \"Fiji\", \"Tonga\", \"Papua New Guinea\", \"Chile\", \"Argentina\", \"Guam\", \"Northern Mariana Islands\", \"Peru\", \"Palau\", \"New Zealand\", \"Bolivia\", \"Timor Leste\"], \"colorbar\": {\"tickprefix\": \"\", \"autotick\": true, \"title\": \"\\n\\u00b0C/yr\"}, \"marker\": {\"line\": {\"color\": \"rgb(0,0,0)\", \"width\": 1}}, \"locationmode\": \"country names\", \"z\": [0.06298537115339364, 0.05527457129433879, 0.05050294221282564, 0.047523361522198264, 0.045377601597368596, 0.04382132663847767, 0.04345137714352804, 0.04341494890768111, 0.043181201550387176, 0.042545134484378265, 0.04200279833215846, 0.04168994401378094, 0.041342324406858845, 0.04116792342024887, 0.040696443113303185, 0.040350372915198, 0.04027034296452862, 0.0401388565891469, 0.040117471223866136, 0.039914299976508985, 0.03956650223161856, 0.039283456659619076, 0.0385921952078928, 0.038538518910030406, 0.03852079516091088, 0.038398549447968215, 0.038254163730326585, 0.0378640415785764, 0.03778717700258355, 0.037685338853652765, 0.037036742424242174, 0.036886178646934414, 0.03664314364575989, 0.0363496681935634, 0.036230123913553916, 0.03611728917077729, 0.036041919191919104, 0.035872747827108226, 0.03583481618510669, 0.03571309607704968, 0.03562489135541433, 0.035541640239604946, 0.035319647051914586, 0.035144820295983016, 0.035048572938689085, 0.03471759161381238, 0.034402989194268103, 0.03434948320413421, 0.03430964000469794, 0.034260450434578205, 0.034133535940803435, 0.03408486610288957, 0.03407563424947111, 0.03400880314775651, 0.033733579985905704, 0.0336099072116514, 0.03358611404745152, 0.03349256518675094, 0.0333568504815599, 0.03309902807141154, 0.0330538495419306, 0.03297814384151573, 0.03292976274371654, 0.032904753934695524, 0.03276939746300185, 0.032636992013155015, 0.03263571470519153, 0.03258469285882107, 0.03255461005402846, 0.03247749588912411, 0.03243291930937252, 0.0322404921306081, 0.03198591437632108, 0.03192844726333086, 0.03188290169133155, 0.031129207775428297, 0.03065234319943611, 0.03041975569650005, 0.02956376262626234, 0.02947966290815137, 0.029363994597134048, 0.029154110876203867, 0.028988883016208368, 0.028907898754991855, 0.028809073291049894, 0.028702575170307783, 0.02868939100305408, 0.02860593140709384, 0.026888601127554534, 0.025322703782005945, 0.025281360112755343, 0.024717594550152593, 0.023983460574739542, 0.02394528130138586, 0.023716587385482674, 0.023696987315010454, 0.023667386070002294, 0.023667386070002294, 0.023630808080807936, 0.023591220342964465, 0.023591220342964465, 0.02313599953018551, 0.022769796805261585, 0.022724528228016516, 0.022695389945971214, 0.022695389945971214, 0.022695389945971214, 0.022695389945971214, 0.022605417547568545, 0.022556718346253016, 0.02253508632840011, 0.022504193093727764, 0.02248299859055667, 0.022399042753112306, 0.022086598543575146, 0.02206429997650914, 0.022047389593610304, 0.022047389593610304, 0.02183338912379599, 0.02148413495419304, 0.02145228153629309, 0.02138242894056836, 0.02137655332393694, 0.02133616102889351, 0.021252093610523753, 0.021251482851773418, 0.02124148167723737, 0.021201435870331038, 0.02113610230209058, 0.02112840321822866, 0.021123434930702168, 0.020820721752407786, 0.02062665609584196, 0.020605288348602223, 0.020562825933756128, 0.02048788466055892, 0.0204594197791871, 0.02039140826873377, 0.020370630725863183, 0.020300055790462703, 0.020253162438336702, 0.020145889123795963, 0.01992897580455712, 0.019916214470284167, 0.01988730032887004, 0.019838791989664005, 0.019785465116278947, 0.019645962532299506, 0.01946798508339213, 0.019238621681935544, 0.019180502701432685, 0.01912301503406138, 0.019115439276485704, 0.018920824524312853, 0.018890409913084164, 0.018652742541695938, 0.018508562367864613, 0.018426559196617225, 0.01825299506694848, 0.018243874794456248, 0.018187632135306442, 0.018156005794377896, 0.018000748766736917, 0.017982966290815035, 0.017886804087385397, 0.017772213413201617, 0.017625808472320134, 0.01759570119802671, 0.017525179116748682, 0.017495170699240437, 0.017189373385012693, 0.017188322175240647, 0.017178949377495742, 0.01713034120272481, 0.01678541226215622, 0.01668303382663845, 0.01664561017148224, 0.016369309372797514, 0.016218620311643426, 0.016147451256753396, 0.016077915785764455, 0.01605458656330743, 0.016047213413201703, 0.01594615045806896, 0.015770560253699512, 0.01565863871270853, 0.015531926826403402, 0.015346320765797412, 0.015274389241249572, 0.015222034296452866, 0.015156436457599171, 0.015139164904862399, 0.015136216819356174, 0.015131223083548657, 0.015015086915668281, 0.014876130490956025, 0.014874553676297812, 0.014855165022316114, 0.014812376673713847, 0.014620967426200056, 0.014616696030067952, 0.014401051209772042, 0.014192870566126411, 0.014121783728760391, 0.013890057552266702, 0.013368246417664986, 0.01335500645994828, 0.013354645290110373, 0.013007188160676468, 0.012874641766502146, 0.012779759807376001, 0.012764617101244932, 0.012727454780361688, 0.012466420014094402, 0.011896027131782777, 0.011859202490016226, 0.011798549447968041, 0.011775284824994159, 0.011690354122621475, 0.011642159971810968, 0.011498094315245545, 0.01117883486023015, 0.01100961945031716, 0.010745187338501246, 0.010479008104298785, 0.010171538054968328, 0.010131298449612365, 0.009845222574582905, 0.00900697380784597, 0.00900697380784597, 0.008841390650692955, 0.007445839206013642, 0.006111046511627747, 0.005147283885365252, 0.0027009337561662472], \"type\": \"choropleth\"}], {\"geo\": {\"lonaxis\": {\"gridcolor\": \"rgb(102, 102, 102)\", \"showgrid\": true}, \"projection\": {\"rotation\": {\"lat\": 10, \"lon\": 0}, \"type\": \"orthographic\"}, \"lataxis\": {\"gridcolor\": \"rgb(102, 102, 102)\", \"showgrid\": true}, \"showframe\": false, \"showocean\": true, \"oceancolor\": \"rgb(0,255,255)\"}, \"title\": \"Rate of Temperature Change since 1970 by Country\"}, {\"linkText\": \"Export to plot.ly\", \"showLink\": true})});</script>"
      ]
     },
     "metadata": {},
     "output_type": "display_data"
    }
   ],
   "source": [
    "import plotly as pl\n",
    "import plotly.offline as py\n",
    "py.init_notebook_mode(connected=True)\n",
    "\n",
    "data = [ dict(\n",
    "        type = 'choropleth',\n",
    "        locations = rate_of_temp_change_df.Country,\n",
    "        z = rate_of_temp_change_df.Temp_Slope,\n",
    "        locationmode = 'country names',\n",
    "        text = rate_of_temp_change_df.Country,\n",
    "        marker = dict(\n",
    "            line = dict(color = 'rgb(0,0,0)', width = 1)),\n",
    "            colorbar = dict(autotick = True, tickprefix = '', \n",
    "            title = '\\n°C/yr')\n",
    "            )\n",
    "       ]\n",
    "\n",
    "layout = dict(\n",
    "    title = 'Rate of Temperature Change since 1970 by Country',\n",
    "    geo = dict(\n",
    "        showframe = False,\n",
    "        showocean = True,\n",
    "        oceancolor = 'rgb(0,255,255)',\n",
    "        projection = dict(\n",
    "        type = 'orthographic',\n",
    "            rotation = dict(\n",
    "                    lon = 0,\n",
    "                    lat = 10),\n",
    "        ),\n",
    "        lonaxis =  dict(\n",
    "                showgrid = True,\n",
    "                gridcolor = 'rgb(102, 102, 102)'\n",
    "            ),\n",
    "        lataxis = dict(\n",
    "                showgrid = True,\n",
    "                gridcolor = 'rgb(102, 102, 102)'\n",
    "                )\n",
    "            ),\n",
    "        )\n",
    "\n",
    "fig = dict(data=data, layout=layout)\n",
    "py.iplot(fig, validate=False, filename='worldmap')"
   ]
  }
 ],
 "metadata": {
  "kernelspec": {
   "display_name": "Python 2",
   "language": "python",
   "name": "python2"
  },
  "language_info": {
   "codemirror_mode": {
    "name": "ipython",
    "version": 2
   },
   "file_extension": ".py",
   "mimetype": "text/x-python",
   "name": "python",
   "nbconvert_exporter": "python",
   "pygments_lexer": "ipython2",
   "version": "2.7.14"
  }
 },
 "nbformat": 4,
 "nbformat_minor": 2
}
